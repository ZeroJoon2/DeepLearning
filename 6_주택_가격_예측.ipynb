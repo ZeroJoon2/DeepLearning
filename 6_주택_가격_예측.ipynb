{
  "nbformat": 4,
  "nbformat_minor": 0,
  "metadata": {
    "colab": {
      "provenance": [],
      "gpuType": "T4",
      "authorship_tag": "ABX9TyMHEFnpTeC8TkSSk+cIS30L",
      "include_colab_link": true
    },
    "kernelspec": {
      "name": "python3",
      "display_name": "Python 3"
    },
    "language_info": {
      "name": "python"
    },
    "accelerator": "GPU"
  },
  "cells": [
    {
      "cell_type": "markdown",
      "metadata": {
        "id": "view-in-github",
        "colab_type": "text"
      },
      "source": [
        "<a href=\"https://colab.research.google.com/github/ZeroJoon2/DeepLearning/blob/main/6_%EC%A3%BC%ED%83%9D_%EA%B0%80%EA%B2%A9_%EC%98%88%EC%B8%A1.ipynb\" target=\"_parent\"><img src=\"https://colab.research.google.com/assets/colab-badge.svg\" alt=\"Open In Colab\"/></a>"
      ]
    },
    {
      "cell_type": "markdown",
      "source": [
        "### 라이브러리 불러오기"
      ],
      "metadata": {
        "id": "B6CFBvlZXZRh"
      }
    },
    {
      "cell_type": "code",
      "source": [
        "import numpy as np\n",
        "\n",
        "import matplotlib.pyplot as plt\n",
        "%matplotlib inline\n",
        "\n",
        "from tensorflow import keras\n",
        "from tensorflow.keras.datasets import boston_housing\n",
        "from tensorflow.keras import layers"
      ],
      "metadata": {
        "id": "3W00Oz01Xagt"
      },
      "execution_count": 31,
      "outputs": []
    },
    {
      "cell_type": "markdown",
      "source": [
        "### 데이터 불러오기"
      ],
      "metadata": {
        "id": "-HeH6K91ZV_S"
      }
    },
    {
      "cell_type": "code",
      "source": [
        "(train_data, train_targets), (test_data, test_targets) = \\\n",
        "(boston_housing.load_data())"
      ],
      "metadata": {
        "id": "t_e_pYkmXexW"
      },
      "execution_count": 4,
      "outputs": []
    },
    {
      "cell_type": "code",
      "source": [
        "train_data.shape, test_data.shape"
      ],
      "metadata": {
        "colab": {
          "base_uri": "https://localhost:8080/"
        },
        "id": "X3W0ZFbsX4xh",
        "outputId": "bf89e3cb-742f-4198-9bdd-396a79154103"
      },
      "execution_count": 5,
      "outputs": [
        {
          "output_type": "execute_result",
          "data": {
            "text/plain": [
              "((404, 13), (102, 13))"
            ]
          },
          "metadata": {},
          "execution_count": 5
        }
      ]
    },
    {
      "cell_type": "code",
      "source": [
        "train_targets[:10], train_targets[-11:]"
      ],
      "metadata": {
        "colab": {
          "base_uri": "https://localhost:8080/"
        },
        "id": "AyadcJe9X9uN",
        "outputId": "324ef2a6-1448-4e41-f6cd-d1eb79ec1ad2"
      },
      "execution_count": 16,
      "outputs": [
        {
          "output_type": "execute_result",
          "data": {
            "text/plain": [
              "(array([15.2, 42.3, 50. , 21.1, 17.7, 18.5, 11.3, 15.6, 15.6, 14.4]),\n",
              " array([20. , 17.8,  7. , 11.8, 24.4, 13.8, 19.4, 25.2, 19.4, 19.4, 29.1]))"
            ]
          },
          "metadata": {},
          "execution_count": 16
        }
      ]
    },
    {
      "cell_type": "markdown",
      "source": [
        "### 훈련 데이터 정규화"
      ],
      "metadata": {
        "id": "DlPZeuFKZYw9"
      }
    },
    {
      "cell_type": "code",
      "source": [
        "mean = train_data.mean(axis = 0)\n",
        "std = train_data.std(axis = 0)\n",
        "\n",
        "train_data -= mean\n",
        "train_data /= std\n",
        "\n",
        "test_data -= mean\n",
        "test_data /= std"
      ],
      "metadata": {
        "id": "FKK114KmYjH0"
      },
      "execution_count": 18,
      "outputs": []
    },
    {
      "cell_type": "code",
      "source": [
        "def build_model():\n",
        "    model = keras.Sequential([\n",
        "        layers.Dense(64, activation = 'relu')\n",
        "        , layers.Dense(64, activation = 'relu')\n",
        "        , layers.Dense(1)\n",
        "    ])\n",
        "\n",
        "    model.compile(optimizer = 'rmsprop'\n",
        "                , loss = 'mse'\n",
        "                , metrics = ['mae']\n",
        "                  )\n",
        "\n",
        "    return model"
      ],
      "metadata": {
        "id": "Vjm7B4pHZD4m"
      },
      "execution_count": 21,
      "outputs": []
    },
    {
      "cell_type": "code",
      "source": [
        "k = 4\n",
        "num_val_samples = len(train_data) // k\n",
        "num_epochs = 100\n",
        "all_scores = []\n",
        "for i in range(k):\n",
        "    print(f'{i}번째 폴드 처리 중')\n",
        "    val_data = train_data[i * num_val_samples: (i + 1) * num_val_samples]\n",
        "    val_targets = train_targets[i * num_val_samples: (i + 1) * num_val_samples]\n",
        "\n",
        "    partial_train_data = np.concatenate(\n",
        "        [train_data[:i * num_val_samples]\n",
        "        , train_data[(i+1) * num_val_samples:]]\n",
        "        , axis = 0)\n",
        "\n",
        "    partial_train_targets = np.concatenate(\n",
        "        [train_targets[:i * num_val_samples]\n",
        "         , train_targets[(i+1) * num_val_samples:]]\n",
        "        , axis = 0)\n",
        "\n",
        "    model = build_model()\n",
        "    model.fit(partial_train_data\n",
        "              , partial_train_targets\n",
        "              , epochs = num_epochs\n",
        "              , batch_size = 16\n",
        "              , verbose = 0)\n",
        "    val_mse, val_mae = model.evaluate(val_data, val_targets, verbose = 0)\n",
        "    all_scores.append(val_mae)"
      ],
      "metadata": {
        "colab": {
          "base_uri": "https://localhost:8080/"
        },
        "id": "b2pn8Ai6Z6Sd",
        "outputId": "a5f32edf-d73d-4df0-ca49-52c66c2f0069"
      },
      "execution_count": 27,
      "outputs": [
        {
          "output_type": "stream",
          "name": "stdout",
          "text": [
            "0번째 폴드 처리 중\n",
            "1번째 폴드 처리 중\n",
            "2번째 폴드 처리 중\n",
            "3번째 폴드 처리 중\n"
          ]
        }
      ]
    },
    {
      "cell_type": "code",
      "source": [
        "all_scores"
      ],
      "metadata": {
        "colab": {
          "base_uri": "https://localhost:8080/"
        },
        "id": "MnzMLj4hbrqF",
        "outputId": "d40b3e73-ea3b-49c9-861f-b4a12e6ba797"
      },
      "execution_count": 28,
      "outputs": [
        {
          "output_type": "execute_result",
          "data": {
            "text/plain": [
              "[1.8898359537124634,\n",
              " 2.7012522220611572,\n",
              " 2.4590237140655518,\n",
              " 2.5156960487365723]"
            ]
          },
          "metadata": {},
          "execution_count": 28
        }
      ]
    },
    {
      "cell_type": "code",
      "source": [
        "num_epochs = 500\n",
        "all_mae_histories = []\n",
        "for i in range(k):\n",
        "    print(f'#{i}번쨰 폴드 처리 중')\n",
        "    val_data = train_data[i * num_val_samples: (i + 1) * num_val_samples]\n",
        "    val_targets = train_targets[i * num_val_samples: (i + 1) * num_val_samples]\n",
        "    partial_train_data = np.concatenate(\n",
        "        [train_data[:i * num_val_samples]\n",
        "        , train_data[(i + 1) * num_val_samples:]]\n",
        "        , axis = 0)\n",
        "\n",
        "    partial_train_targets = np.concatenate(\n",
        "        [train_targets[:i * num_val_samples]\n",
        "         , train_targets[(i + 1) * num_val_samples:]]\n",
        "        , axis = 0)\n",
        "\n",
        "    model = build_model()\n",
        "    history = model.fit(partial_train_data\n",
        "                        , partial_train_targets\n",
        "                        , validation_data = (val_data, val_targets)\n",
        "                        , epochs = num_epochs\n",
        "                        , batch_size = 16\n",
        "                        , verbose = 0)\n",
        "    mae_history = history.history['val_mae']\n",
        "    all_mae_histories.append(mae_history)"
      ],
      "metadata": {
        "colab": {
          "base_uri": "https://localhost:8080/"
        },
        "id": "MUFpOAyFb9Jn",
        "outputId": "3c7157d8-4f71-4c55-de4e-164903e1ab65"
      },
      "execution_count": 30,
      "outputs": [
        {
          "output_type": "stream",
          "name": "stdout",
          "text": [
            "#0번쨰 폴드 처리 중\n",
            "#1번쨰 폴드 처리 중\n",
            "#2번쨰 폴드 처리 중\n",
            "#3번쨰 폴드 처리 중\n"
          ]
        }
      ]
    },
    {
      "cell_type": "code",
      "source": [
        "average_mae_history = \\\n",
        "    [np.mean([x[i] for x in all_mae_histories]) for i in range(num_epochs)]\n",
        "\n",
        "average_mae_history[:10]"
      ],
      "metadata": {
        "colab": {
          "base_uri": "https://localhost:8080/"
        },
        "id": "UNwvQz-YdhO8",
        "outputId": "7eaa5a90-97f6-49d6-8df7-250d0b493940"
      },
      "execution_count": 36,
      "outputs": [
        {
          "output_type": "execute_result",
          "data": {
            "text/plain": [
              "[19.20098638534546,\n",
              " 15.725611448287964,\n",
              " 11.558104991912842,\n",
              " 7.7590121030807495,\n",
              " 5.859770178794861,\n",
              " 4.826965093612671,\n",
              " 4.1660637855529785,\n",
              " 3.751361131668091,\n",
              " 3.422373950481415,\n",
              " 3.3172627091407776]"
            ]
          },
          "metadata": {},
          "execution_count": 36
        }
      ]
    },
    {
      "cell_type": "code",
      "source": [
        "len(average_mae_history)"
      ],
      "metadata": {
        "colab": {
          "base_uri": "https://localhost:8080/"
        },
        "id": "ad97Vs_pe7Q3",
        "outputId": "8608d8d8-518b-45d7-f22c-36a9b8c7d91b"
      },
      "execution_count": 37,
      "outputs": [
        {
          "output_type": "execute_result",
          "data": {
            "text/plain": [
              "500"
            ]
          },
          "metadata": {},
          "execution_count": 37
        }
      ]
    },
    {
      "cell_type": "code",
      "source": [
        "plt.figure(figsize = (12, 4))\n",
        "plt.plot(range(1, len(average_mae_history) + 1), average_mae_history)\n",
        "plt.xticks(range(0, len(average_mae_history), 10), rotation = 90)\n",
        "plt.xlabel('Epochs')\n",
        "plt.ylabel('Validation MAE')\n",
        "plt.tight_layout()\n",
        "plt.show()"
      ],
      "metadata": {
        "colab": {
          "base_uri": "https://localhost:8080/",
          "height": 223
        },
        "id": "CtlKx54Nd7PU",
        "outputId": "d00dc92a-b77c-4739-a9c9-084110c8eb15"
      },
      "execution_count": 52,
      "outputs": [
        {
          "output_type": "display_data",
          "data": {
            "text/plain": [
              "<Figure size 1200x400 with 1 Axes>"
            ],
            "image/png": "[encoded data removed]"
          },
          "metadata": {}
        }
      ]
    },
    {
      "cell_type": "code",
      "source": [
        "# 좀더 확대\n",
        "plt.figure(figsize = (10, 4))\n",
        "truncated_mae_history = average_mae_history[10:]\n",
        "plt.plot(range(1, len(truncated_mae_history) + 1), truncated_mae_history)\n",
        "plt.xticks(range(0, len(truncated_mae_history), 50), rotation = 90)\n",
        "plt.xlabel('Epochs')\n",
        "plt.ylabel('Validation MAE')\n",
        "plt.show()"
      ],
      "metadata": {
        "colab": {
          "base_uri": "https://localhost:8080/",
          "height": 303
        },
        "id": "ZxcDICsmfL4W",
        "outputId": "e9acc134-570e-47c0-d852-5118846c4ba5"
      },
      "execution_count": 56,
      "outputs": [
        {
          "output_type": "display_data",
          "data": {
            "text/plain": [
              "<Figure size 1000x400 with 1 Axes>"
            ],
            "image/png": "[encoded data removed]"
          },
          "metadata": {}
        }
      ]
    },
    {
      "cell_type": "code",
      "source": [
        "model = build_model()\n",
        "model.fit(train_data\n",
        "          , train_targets\n",
        "          , epochs = 130\n",
        "          , batch_size = 16\n",
        "          , verbose = 0)\n",
        "\n",
        "test_mse_score, test_mae_score = model.evaluate(test_data, test_targets)\n",
        "test_mse_score, test_mae_score"
      ],
      "metadata": {
        "colab": {
          "base_uri": "https://localhost:8080/"
        },
        "id": "VtCmcv9hgAzI",
        "outputId": "c668edfb-2f2d-4890-e427-e9cd2c98a732"
      },
      "execution_count": 57,
      "outputs": [
        {
          "output_type": "stream",
          "name": "stdout",
          "text": [
            "\u001b[1m4/4\u001b[0m \u001b[32m━━━━━━━━━━━━━━━━━━━━\u001b[0m\u001b[37m\u001b[0m \u001b[1m0s\u001b[0m 78ms/step - loss: 12.7173 - mae: 2.4665\n"
          ]
        },
        {
          "output_type": "execute_result",
          "data": {
            "text/plain": [
              "(16.313899993896484, 2.628753662109375)"
            ]
          },
          "metadata": {},
          "execution_count": 57
        }
      ]
    },
    {
      "cell_type": "code",
      "source": [
        "predictions = model.predict(test_data)\n",
        "predictions[0]"
      ],
      "metadata": {
        "colab": {
          "base_uri": "https://localhost:8080/"
        },
        "id": "Pf2qpsEigfDU",
        "outputId": "d2db5214-c1b3-4c0c-c33c-9db977df32e7"
      },
      "execution_count": 58,
      "outputs": [
        {
          "output_type": "stream",
          "name": "stdout",
          "text": [
            "\u001b[1m4/4\u001b[0m \u001b[32m━━━━━━━━━━━━━━━━━━━━\u001b[0m\u001b[37m\u001b[0m \u001b[1m0s\u001b[0m 49ms/step\n"
          ]
        },
        {
          "output_type": "execute_result",
          "data": {
            "text/plain": [
              "array([8.513875], dtype=float32)"
            ]
          },
          "metadata": {},
          "execution_count": 58
        }
      ]
    },
    {
      "cell_type": "code",
      "source": [
        "def build_model_modified_1():\n",
        "    model = keras.Sequential([\n",
        "        layers.Dense(32, activation = 'relu')\n",
        "        , layers.Dense(32, activation = 'relu')\n",
        "        , layers.Dense(1)\n",
        "    ])\n",
        "\n",
        "    model.compile(optimizer = 'rmsprop'\n",
        "                , loss = 'mse'\n",
        "                , metrics = ['mae']\n",
        "                  )\n",
        "\n",
        "    return model\n",
        "\n",
        "k = 5\n",
        "num_val_samples = len(train_data) // k\n",
        "num_epochs = 125\n",
        "num_batch_size = 16\n",
        "all_scores = []\n",
        "for i in range(k):\n",
        "    print(f'{i+1}번째 폴드 처리 중')\n",
        "    val_data = train_data[i * num_val_samples: (i + 1) * num_val_samples]\n",
        "    val_targets = train_targets[i * num_val_samples: (i + 1) * num_val_samples]\n",
        "\n",
        "    partial_train_data = np.concatenate(\n",
        "        [train_data[:i * num_val_samples]\n",
        "        , train_data[(i+1) * num_val_samples:]]\n",
        "        , axis = 0)\n",
        "\n",
        "    partial_train_targets = np.concatenate(\n",
        "        [train_targets[:i * num_val_samples]\n",
        "         , train_targets[(i+1) * num_val_samples:]]\n",
        "        , axis = 0)\n",
        "\n",
        "    model = build_model_modified_1()\n",
        "    model.fit(partial_train_data\n",
        "                            , partial_train_targets\n",
        "                            , epochs = num_epochs\n",
        "                            , batch_size = num_batch_size\n",
        "                            , verbose = 0)\n",
        "    val_mse, val_mae = model.evaluate(val_data, val_targets, verbose = 0)\n",
        "    all_scores.append(val_mae)\n",
        "\n",
        "print(f'''\n",
        "all_scsores : {all_scores}\n",
        "mean : {np.mean(all_scores)}\n",
        "evaluate : {model.evaluate(test_data, test_targets)}\n",
        "''')\n",
        "\n",
        "model = build_model_modified_1()\n",
        "model.fit(train_data\n",
        "          , train_targets\n",
        "          , epochs = num_epochs\n",
        "          , batch_size = num_batch_size\n",
        "          , verbose = 0)\n",
        "\n",
        "test_mse_score, test_mae_score = model.evaluate(test_data, test_targets)\n",
        "\n",
        "print(f'''\n",
        "test_mae_score : {test_mae_score}\n",
        "''')"
      ],
      "metadata": {
        "colab": {
          "base_uri": "https://localhost:8080/"
        },
        "id": "-i4mFB5Gh8pe",
        "outputId": "bc9e70b1-47bb-493b-da0f-cebc9f8b7570"
      },
      "execution_count": 98,
      "outputs": [
        {
          "output_type": "stream",
          "name": "stdout",
          "text": [
            "1번째 폴드 처리 중\n",
            "2번째 폴드 처리 중\n",
            "3번째 폴드 처리 중\n",
            "4번째 폴드 처리 중\n",
            "5번째 폴드 처리 중\n",
            "\u001b[1m4/4\u001b[0m \u001b[32m━━━━━━━━━━━━━━━━━━━━\u001b[0m\u001b[37m\u001b[0m \u001b[1m0s\u001b[0m 31ms/step - loss: 14.9852 - mae: 2.5699\n",
            "\n",
            "all_scsores : [1.7601439952850342, 2.6429383754730225, 2.2877678871154785, 2.4554600715637207, 2.648630380630493]\n",
            "mean : 2.35898814201355\n",
            "evaluate : [22.15279769897461, 2.8159735202789307]\n",
            "\n",
            "\u001b[1m4/4\u001b[0m \u001b[32m━━━━━━━━━━━━━━━━━━━━\u001b[0m\u001b[37m\u001b[0m \u001b[1m0s\u001b[0m 32ms/step - loss: 13.4232 - mae: 2.4495\n",
            "\n",
            "test_mae_score : 2.680363893508911\n",
            "\n"
          ]
        }
      ]
    }
  ]
}