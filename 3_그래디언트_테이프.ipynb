{
  "nbformat": 4,
  "nbformat_minor": 0,
  "metadata": {
    "colab": {
      "provenance": [],
      "authorship_tag": "ABX9TyNWGIc562sjj0NmUDvkNwKK",
      "include_colab_link": true
    },
    "kernelspec": {
      "name": "python3",
      "display_name": "Python 3"
    },
    "language_info": {
      "name": "python"
    }
  },
  "cells": [
    {
      "cell_type": "markdown",
      "metadata": {
        "id": "view-in-github",
        "colab_type": "text"
      },
      "source": [
        "<a href=\"https://colab.research.google.com/github/ZeroJoon2/DeepLearning/blob/main/3_%EA%B7%B8%EB%9E%98%EB%94%94%EC%96%B8%ED%8A%B8_%ED%85%8C%EC%9D%B4%ED%94%84.ipynb\" target=\"_parent\"><img src=\"https://colab.research.google.com/assets/colab-badge.svg\" alt=\"Open In Colab\"/></a>"
      ]
    },
    {
      "cell_type": "code",
      "execution_count": 3,
      "metadata": {
        "colab": {
          "base_uri": "https://localhost:8080/"
        },
        "id": "o2qrQaB-aO4g",
        "outputId": "f984a0d8-717c-4127-e59d-4f68555f9edf"
      },
      "outputs": [
        {
          "output_type": "execute_result",
          "data": {
            "text/plain": [
              "<tf.Tensor: shape=(), dtype=float32, numpy=2.0>"
            ]
          },
          "metadata": {},
          "execution_count": 3
        }
      ],
      "source": [
        "import tensorflow as tf\n",
        "\n",
        "#1. scala 값의 기울기 계산\n",
        "\n",
        "x = tf.Variable(0.)\n",
        "\n",
        "with tf.GradientTape() as tape:\n",
        "    # y를 계산하기 위한 규칙\n",
        "    y = 2*x + 3\n",
        "\n",
        "grad_y_x = tape.gradient(y, x)\n",
        "grad_y_x"
      ]
    },
    {
      "cell_type": "code",
      "source": [
        "# 2. 행렬의 기울기 계산\n",
        "\n",
        "x = tf.Variable(tf.zeros((2,2)))\n",
        "x"
      ],
      "metadata": {
        "colab": {
          "base_uri": "https://localhost:8080/"
        },
        "id": "lgJ2-9bhbE53",
        "outputId": "92c57e95-1f7a-43f4-e4f5-7b5a3a21ea49"
      },
      "execution_count": 5,
      "outputs": [
        {
          "output_type": "execute_result",
          "data": {
            "text/plain": [
              "<tf.Variable 'Variable:0' shape=(2, 2) dtype=float32, numpy=\n",
              "array([[0., 0.],\n",
              "       [0., 0.]], dtype=float32)>"
            ]
          },
          "metadata": {},
          "execution_count": 5
        }
      ]
    },
    {
      "cell_type": "code",
      "source": [
        "with tf.GradientTape() as tape:\n",
        "    y = 2*x + 3\n",
        "grad_y_x = tape.gradient(y, x) # y에 대해 x로 미분\\\n",
        "grad_y_x"
      ],
      "metadata": {
        "colab": {
          "base_uri": "https://localhost:8080/"
        },
        "id": "XT6xUcnpbRy_",
        "outputId": "52e551d4-73eb-4d22-fd77-dbd8a9f1c0ca"
      },
      "execution_count": 7,
      "outputs": [
        {
          "output_type": "execute_result",
          "data": {
            "text/plain": [
              "<tf.Tensor: shape=(2, 2), dtype=float32, numpy=\n",
              "array([[2., 2.],\n",
              "       [2., 2.]], dtype=float32)>"
            ]
          },
          "metadata": {},
          "execution_count": 7
        }
      ]
    },
    {
      "cell_type": "code",
      "source": [
        "#3. 선형함수의 기울기 w 계산\n",
        "\n",
        "# 가중치 = 기울기\n",
        "W = tf.Variable(tf.random.uniform((2,2)))\n",
        "b = tf.Variable(tf.zeros((2,)))\n",
        "\n",
        "x = tf.random.uniform((2,2))\n",
        "print(f'''\n",
        "▶ x\n",
        "{x}\n",
        "\n",
        "▶ W\n",
        "{W}\n",
        "\n",
        "▶ b\n",
        "{b}\n",
        "\n",
        "''')\n",
        "\n",
        "with tf.GradientTape() as tape:\n",
        "    y = tf.matmul(x, W) + b # w*x\n",
        ""
      ],
      "metadata": {
        "colab": {
          "base_uri": "https://localhost:8080/"
        },
        "id": "9tCp0hjQbyNl",
        "outputId": "e523c65d-9c2a-4d14-d3f3-d9ecaa3a8970"
      },
      "execution_count": 13,
      "outputs": [
        {
          "output_type": "stream",
          "name": "stdout",
          "text": [
            "\n",
            "x\n",
            "[[0.81836414 0.5578401 ]\n",
            " [0.6280856  0.50057924]]\n",
            "      \n",
            "W\n",
            "<tf.Variable 'Variable:0' shape=(2, 2) dtype=float32, numpy=\n",
            "array([[0.7292911 , 0.3586378 ],\n",
            "       [0.46556795, 0.8687873 ]], dtype=float32)>\n",
            "      \n",
            "b\n",
            "<tf.Variable 'Variable:0' shape=(2,) dtype=float32, numpy=array([0., 0.], dtype=float32)>\n",
            "\n",
            "\n"
          ]
        }
      ]
    }
  ]
}