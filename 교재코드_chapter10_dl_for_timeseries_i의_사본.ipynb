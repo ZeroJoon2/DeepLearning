{
  "cells": [
    {
      "cell_type": "markdown",
      "metadata": {
        "id": "view-in-github",
        "colab_type": "text"
      },
      "source": [
        "<a href=\"https://colab.research.google.com/github/ZeroJoon2/DeepLearning/blob/main/%EA%B5%90%EC%9E%AC%EC%BD%94%EB%93%9C_chapter10_dl_for_timeseries_i%EC%9D%98_%EC%82%AC%EB%B3%B8.ipynb\" target=\"_parent\"><img src=\"https://colab.research.google.com/assets/colab-badge.svg\" alt=\"Open In Colab\"/></a>"
      ]
    },
    {
      "cell_type": "markdown",
      "metadata": {
        "id": "rLyx0NKfjbcR"
      },
      "source": [
        "이 노트북은 [케라스 창시자에게 배우는 딥러닝 2판](https://tensorflow.blog/kerasdl2/)의 예제 코드를 담고 있습니다.\n",
        "\n",
        "<table align=\"left\">\n",
        "    <tr>\n",
        "        <td>\n",
        "            <a href=\"https://colab.research.google.com/github/rickiepark/deep-learning-with-python-2nd/blob/main/chapter10_dl-for-timeseries.ipynb\" target=\"_parent\"><img src=\"https://colab.research.google.com/assets/colab-badge.svg\" alt=\"Open In Colab\"/></a>\n",
        "        </td>\n",
        "    </tr>\n",
        "</table>"
      ]
    },
    {
      "cell_type": "markdown",
      "metadata": {
        "id": "-jmgSYTnjbcU"
      },
      "source": [
        "# 시계열을 위한 딥러닝"
      ]
    },
    {
      "cell_type": "markdown",
      "metadata": {
        "id": "yqfO6TQzjbcV"
      },
      "source": [
        "## 다양한 종류의 시계열 작업"
      ]
    },
    {
      "cell_type": "markdown",
      "metadata": {
        "id": "rMlIvey2jbcV"
      },
      "source": [
        "## 기온 예측 문제"
      ]
    },
    {
      "cell_type": "code",
      "execution_count": 1,
      "metadata": {
        "execution": {
          "iopub.execute_input": "2022-05-20T13:26:55.453195Z",
          "iopub.status.busy": "2022-05-20T13:26:55.452690Z",
          "iopub.status.idle": "2022-05-20T13:26:58.879200Z",
          "shell.execute_reply": "2022-05-20T13:26:58.877667Z"
        },
        "id": "aUCXJRQgjbcV",
        "outputId": "ffced7ce-1aa0-4ba3-e555-a4087a113bed",
        "colab": {
          "base_uri": "https://localhost:8080/"
        }
      },
      "outputs": [
        {
          "output_type": "stream",
          "name": "stdout",
          "text": [
            "--2025-01-20 00:45:44--  https://s3.amazonaws.com/keras-datasets/jena_climate_2009_2016.csv.zip\n",
            "Resolving s3.amazonaws.com (s3.amazonaws.com)... 3.5.0.41, 52.217.202.136, 52.217.15.62, ...\n",
            "Connecting to s3.amazonaws.com (s3.amazonaws.com)|3.5.0.41|:443... connected.\n",
            "HTTP request sent, awaiting response... 200 OK\n",
            "Length: 13565642 (13M) [application/zip]\n",
            "Saving to: ‘jena_climate_2009_2016.csv.zip’\n",
            "\n",
            "jena_climate_2009_2 100%[===================>]  12.94M  4.99MB/s    in 2.6s    \n",
            "\n",
            "2025-01-20 00:45:48 (4.99 MB/s) - ‘jena_climate_2009_2016.csv.zip’ saved [13565642/13565642]\n",
            "\n",
            "Archive:  jena_climate_2009_2016.csv.zip\n",
            "  inflating: jena_climate_2009_2016.csv  \n",
            "  inflating: __MACOSX/._jena_climate_2009_2016.csv  \n"
          ]
        }
      ],
      "source": [
        "!wget https://s3.amazonaws.com/keras-datasets/jena_climate_2009_2016.csv.zip\n",
        "!unzip jena_climate_2009_2016.csv.zip"
      ]
    },
    {
      "cell_type": "markdown",
      "metadata": {
        "id": "C93ZoFD3jbcX"
      },
      "source": [
        "**예나 날씨 데이터셋 조사하기**"
      ]
    },
    {
      "cell_type": "code",
      "execution_count": 14,
      "metadata": {
        "execution": {
          "iopub.execute_input": "2022-05-20T13:26:58.883391Z",
          "iopub.status.busy": "2022-05-20T13:26:58.883062Z",
          "iopub.status.idle": "2022-05-20T13:26:59.026206Z",
          "shell.execute_reply": "2022-05-20T13:26:59.025347Z"
        },
        "id": "Z-0eD31YjbcX",
        "outputId": "77576aae-cb9e-43f7-e144-14c67fcdc8e4",
        "colab": {
          "base_uri": "https://localhost:8080/"
        }
      },
      "outputs": [
        {
          "output_type": "stream",
          "name": "stdout",
          "text": [
            "['\"Date Time\"', '\"p (mbar)\"', '\"T (degC)\"', '\"Tpot (K)\"', '\"Tdew (degC)\"', '\"rh (%)\"', '\"VPmax (mbar)\"', '\"VPact (mbar)\"', '\"VPdef (mbar)\"', '\"sh (g/kg)\"', '\"H2OC (mmol/mol)\"', '\"rho (g/m**3)\"', '\"wv (m/s)\"', '\"max. wv (m/s)\"', '\"wd (deg)\"']\n",
            "420451\n"
          ]
        }
      ],
      "source": [
        "import os\n",
        "fname = os.path.join(\"jena_climate_2009_2016.csv\")\n",
        "\n",
        "with open(fname) as f:\n",
        "    data = f.read()\n",
        "\n",
        "lines = data.split(\"\\n\")\n",
        "header = lines[0].split(\",\")\n",
        "lines = lines[1:]\n",
        "print(header)\n",
        "print(len(lines))"
      ]
    },
    {
      "cell_type": "markdown",
      "metadata": {
        "id": "kRnwyaNijbcY"
      },
      "source": [
        "**데이터 파싱**"
      ]
    },
    {
      "cell_type": "code",
      "execution_count": 15,
      "metadata": {
        "execution": {
          "iopub.execute_input": "2022-05-20T13:26:59.030213Z",
          "iopub.status.busy": "2022-05-20T13:26:59.029492Z",
          "iopub.status.idle": "2022-05-20T13:27:00.936580Z",
          "shell.execute_reply": "2022-05-20T13:27:00.935499Z"
        },
        "id": "FiZFxhiCjbcY"
      },
      "outputs": [],
      "source": [
        "import numpy as np\n",
        "temperature = np.zeros((len(lines),))\n",
        "raw_data = np.zeros((len(lines), len(header) - 1))\n",
        "for i, line in enumerate(lines):\n",
        "    values = [float(x) for x in line.split(\",\")[1:]]\n",
        "    temperature[i] = values[1]\n",
        "    raw_data[i, :] = values[:]"
      ]
    },
    {
      "cell_type": "markdown",
      "metadata": {
        "id": "b1MbsjsljbcZ"
      },
      "source": [
        "**전체 기온을 그래프로 그리기**"
      ]
    },
    {
      "cell_type": "code",
      "execution_count": 16,
      "metadata": {
        "execution": {
          "iopub.execute_input": "2022-05-20T13:27:00.940623Z",
          "iopub.status.busy": "2022-05-20T13:27:00.940326Z",
          "iopub.status.idle": "2022-05-20T13:27:02.011631Z",
          "shell.execute_reply": "2022-05-20T13:27:02.010321Z"
        },
        "id": "o6gAh5ecjbcZ",
        "outputId": "faae1508-f113-4ce7-dbba-d3d10fb67831",
        "colab": {
          "base_uri": "https://localhost:8080/",
          "height": 434
        }
      },
      "outputs": [
        {
          "output_type": "display_data",
          "data": {
            "text/plain": [
              "<Figure size 640x480 with 1 Axes>"
            ],
            "image/png": "[encoded data removed]"
          },
          "metadata": {}
        }
      ],
      "source": [
        "from matplotlib import pyplot as plt\n",
        "plt.plot(range(len(temperature)), temperature)\n",
        "plt.show()"
      ]
    },
    {
      "cell_type": "markdown",
      "metadata": {
        "id": "aALKlaFJjbcZ"
      },
      "source": [
        "**처음 10일간의 기온을 그래프로 그리기**"
      ]
    },
    {
      "cell_type": "code",
      "execution_count": 17,
      "metadata": {
        "execution": {
          "iopub.execute_input": "2022-05-20T13:27:02.015866Z",
          "iopub.status.busy": "2022-05-20T13:27:02.015374Z",
          "iopub.status.idle": "2022-05-20T13:27:02.123996Z",
          "shell.execute_reply": "2022-05-20T13:27:02.122754Z"
        },
        "id": "FGPdWjXujbca",
        "outputId": "ee09874d-5483-47b8-e61c-f53ef5831162",
        "colab": {
          "base_uri": "https://localhost:8080/",
          "height": 430
        }
      },
      "outputs": [
        {
          "output_type": "display_data",
          "data": {
            "text/plain": [
              "<Figure size 640x480 with 1 Axes>"
            ],
            "image/png": "[encoded data removed]"
          },
          "metadata": {}
        }
      ],
      "source": [
        "plt.plot(range(1440), temperature[:1440])\n",
        "plt.show()"
      ]
    },
    {
      "cell_type": "markdown",
      "metadata": {
        "id": "QaZN550Xjbca"
      },
      "source": [
        "**각 분할에 사용할 샘플 수 계산하기**"
      ]
    },
    {
      "cell_type": "code",
      "execution_count": 18,
      "metadata": {
        "execution": {
          "iopub.execute_input": "2022-05-20T13:27:02.128070Z",
          "iopub.status.busy": "2022-05-20T13:27:02.127766Z",
          "iopub.status.idle": "2022-05-20T13:27:02.133998Z",
          "shell.execute_reply": "2022-05-20T13:27:02.132864Z"
        },
        "id": "YG7JjzJtjbca",
        "outputId": "63b0349e-a450-4635-ac85-4732d3108913",
        "colab": {
          "base_uri": "https://localhost:8080/"
        }
      },
      "outputs": [
        {
          "output_type": "stream",
          "name": "stdout",
          "text": [
            "num_train_samples: 210225\n",
            "num_val_samples: 105112\n",
            "num_test_samples: 105114\n"
          ]
        }
      ],
      "source": [
        "num_train_samples = int(0.5 * len(raw_data))\n",
        "num_val_samples = int(0.25 * len(raw_data))\n",
        "num_test_samples = len(raw_data) - num_train_samples - num_val_samples\n",
        "print(\"num_train_samples:\", num_train_samples)\n",
        "print(\"num_val_samples:\", num_val_samples)\n",
        "print(\"num_test_samples:\", num_test_samples)"
      ]
    },
    {
      "cell_type": "markdown",
      "metadata": {
        "id": "B-GzlCYCjbcb"
      },
      "source": [
        "### 데이터 준비"
      ]
    },
    {
      "cell_type": "markdown",
      "metadata": {
        "id": "gsmS_D67jbcb"
      },
      "source": [
        "**데이터 정규화**"
      ]
    },
    {
      "cell_type": "code",
      "execution_count": 19,
      "metadata": {
        "execution": {
          "iopub.execute_input": "2022-05-20T13:27:02.137634Z",
          "iopub.status.busy": "2022-05-20T13:27:02.137353Z",
          "iopub.status.idle": "2022-05-20T13:27:02.191157Z",
          "shell.execute_reply": "2022-05-20T13:27:02.189956Z"
        },
        "id": "5BhCfjkrjbcb"
      },
      "outputs": [],
      "source": [
        "mean = raw_data[:num_train_samples].mean(axis=0)\n",
        "raw_data -= mean\n",
        "std = raw_data[:num_train_samples].std(axis=0)\n",
        "raw_data /= std"
      ]
    },
    {
      "cell_type": "markdown",
      "source": [
        "5일치 데이터로 24시간 뒤 온도 예측"
      ],
      "metadata": {
        "id": "l7bEwfh0RyIE"
      }
    },
    {
      "cell_type": "code",
      "execution_count": 20,
      "metadata": {
        "execution": {
          "iopub.execute_input": "2022-05-20T13:27:02.195344Z",
          "iopub.status.busy": "2022-05-20T13:27:02.195011Z",
          "iopub.status.idle": "2022-05-20T13:27:02.314820Z",
          "shell.execute_reply": "2022-05-20T13:27:02.312523Z"
        },
        "id": "sgoxHRsPjbcb",
        "outputId": "b824b8fe-3a12-48fb-ee84-d2894da2d786",
        "colab": {
          "base_uri": "https://localhost:8080/"
        }
      },
      "outputs": [
        {
          "output_type": "stream",
          "name": "stdout",
          "text": [
            "[0, 1, 2] 3\n",
            "[1, 2, 3] 4\n",
            "[2, 3, 4] 5\n",
            "[3, 4, 5] 6\n",
            "[4, 5, 6] 7\n"
          ]
        }
      ],
      "source": [
        "import numpy as np\n",
        "from tensorflow import keras\n",
        "int_sequence = np.arange(10)\n",
        "dummy_dataset = keras.utils.timeseries_dataset_from_array(\n",
        "    data=int_sequence[:-3],\n",
        "    targets=int_sequence[3:],\n",
        "    sequence_length=3,\n",
        "    batch_size=2,\n",
        ")\n",
        "\n",
        "for inputs, targets in dummy_dataset:\n",
        "    for i in range(inputs.shape[0]):\n",
        "        print([int(x) for x in inputs[i]], int(targets[i]))"
      ]
    },
    {
      "cell_type": "markdown",
      "metadata": {
        "id": "n_d8n6Yqjbcb"
      },
      "source": [
        "**훈련, 검증, 테스트 데이터셋 만들기**"
      ]
    },
    {
      "cell_type": "code",
      "execution_count": 21,
      "metadata": {
        "execution": {
          "iopub.execute_input": "2022-05-20T13:27:02.318918Z",
          "iopub.status.busy": "2022-05-20T13:27:02.318531Z",
          "iopub.status.idle": "2022-05-20T13:27:02.483352Z",
          "shell.execute_reply": "2022-05-20T13:27:02.482263Z"
        },
        "id": "uts3EvXajbcc"
      },
      "outputs": [],
      "source": [
        "sampling_rate = 6 # 시간당 1개\n",
        "sequence_length = 120 # 5일치 당 윈도우\n",
        "delay = sampling_rate * (sequence_length + 24 - 1) #이전 시퀀스 끝에서 지연을 주고 다음 시퀀스\n",
        "batch_size = 256\n",
        "\n",
        "train_dataset = keras.utils.timeseries_dataset_from_array(\n",
        "    raw_data[:-delay],\n",
        "    targets=temperature[delay:],\n",
        "    sampling_rate=sampling_rate,\n",
        "    sequence_length=sequence_length,\n",
        "    shuffle=True,\n",
        "    batch_size=batch_size,\n",
        "    start_index=0,\n",
        "    end_index=num_train_samples) # 50%의 갯수 > 마지막 인덱스\n",
        "\n",
        "val_dataset = keras.utils.timeseries_dataset_from_array(\n",
        "    raw_data[:-delay],\n",
        "    targets=temperature[delay:],\n",
        "    sampling_rate=sampling_rate,\n",
        "    sequence_length=sequence_length,\n",
        "    shuffle=True,\n",
        "    batch_size=batch_size,\n",
        "    start_index=num_train_samples,\n",
        "    end_index=num_train_samples + num_val_samples) # 검증 데이터의 인덱스\n",
        "\n",
        "test_dataset = keras.utils.timeseries_dataset_from_array(\n",
        "    raw_data[:-delay],\n",
        "    targets=temperature[delay:],\n",
        "    sampling_rate=sampling_rate,\n",
        "    sequence_length=sequence_length,\n",
        "    shuffle=True,\n",
        "    batch_size=batch_size,\n",
        "    start_index=num_train_samples + num_val_samples)"
      ]
    },
    {
      "cell_type": "markdown",
      "metadata": {
        "id": "dZNUb2s2jbcc"
      },
      "source": [
        "**훈련 데이터셋의 배치 크기 확인하기**"
      ]
    },
    {
      "cell_type": "code",
      "execution_count": 22,
      "metadata": {
        "execution": {
          "iopub.execute_input": "2022-05-20T13:27:02.487516Z",
          "iopub.status.busy": "2022-05-20T13:27:02.487209Z",
          "iopub.status.idle": "2022-05-20T13:27:02.708306Z",
          "shell.execute_reply": "2022-05-20T13:27:02.707147Z"
        },
        "id": "pC_5Co8Zjbcc",
        "outputId": "1dc3521f-03e0-4d5c-81c8-2a82ebf1665f",
        "colab": {
          "base_uri": "https://localhost:8080/"
        }
      },
      "outputs": [
        {
          "output_type": "stream",
          "name": "stdout",
          "text": [
            "샘플 크기: (256, 120, 14)\n",
            "타깃 크기: (256,)\n"
          ]
        }
      ],
      "source": [
        "for samples, targets in train_dataset:\n",
        "    print(\"샘플 크기:\", samples.shape)\n",
        "    print(\"타깃 크기:\", targets.shape)\n",
        "    break"
      ]
    },
    {
      "cell_type": "markdown",
      "metadata": {
        "id": "vdYKKLDjjbcd"
      },
      "source": [
        "### 상식 수준의 기준점"
      ]
    },
    {
      "cell_type": "markdown",
      "metadata": {
        "id": "OABELWY3jbcd"
      },
      "source": [
        "**상식적인 기준 모델의 MAE 계산하기**"
      ]
    },
    {
      "cell_type": "code",
      "execution_count": 23,
      "metadata": {
        "execution": {
          "iopub.execute_input": "2022-05-20T13:27:02.712723Z",
          "iopub.status.busy": "2022-05-20T13:27:02.712259Z",
          "iopub.status.idle": "2022-05-20T13:27:12.831040Z",
          "shell.execute_reply": "2022-05-20T13:27:12.829972Z"
        },
        "id": "-ryWeRYljbcd",
        "outputId": "35861698-4941-49fb-857c-51a770848cbd",
        "colab": {
          "base_uri": "https://localhost:8080/"
        }
      },
      "outputs": [
        {
          "output_type": "stream",
          "name": "stdout",
          "text": [
            "검증 MAE: 2.44\n",
            "테스트 MAE: 2.62\n"
          ]
        }
      ],
      "source": [
        "def evaluate_naive_method(dataset):\n",
        "    total_abs_err = 0.\n",
        "    samples_seen = 0\n",
        "    for samples, targets in dataset:\n",
        "        preds = samples[:, -1, 1] * std[1] + mean[1]\n",
        "        total_abs_err += np.sum(np.abs(preds - targets))\n",
        "        samples_seen += samples.shape[0]\n",
        "    return total_abs_err / samples_seen\n",
        "\n",
        "print(f\"검증 MAE: {evaluate_naive_method(val_dataset):.2f}\")\n",
        "print(f\"테스트 MAE: {evaluate_naive_method(test_dataset):.2f}\")"
      ]
    },
    {
      "cell_type": "markdown",
      "metadata": {
        "id": "AwYpH902jbcd"
      },
      "source": [
        "### 기본적인 머신 러닝 모델 시도해 보기"
      ]
    },
    {
      "cell_type": "markdown",
      "metadata": {
        "id": "g8shk8fVjbcd"
      },
      "source": [
        "**밀집 연결 모델 훈련하고 평가하기**"
      ]
    },
    {
      "cell_type": "code",
      "execution_count": 30,
      "metadata": {
        "execution": {
          "iopub.execute_input": "2022-05-20T13:27:12.835455Z",
          "iopub.status.busy": "2022-05-20T13:27:12.834662Z",
          "iopub.status.idle": "2022-05-20T13:30:16.406591Z",
          "shell.execute_reply": "2022-05-20T13:30:16.405650Z"
        },
        "id": "AnkykZycjbcd"
      },
      "outputs": [],
      "source": [
        "from tensorflow import keras\n",
        "from tensorflow.keras import layers\n",
        "\n",
        "inputs = keras.Input(shape=(sequence_length, raw_data.shape[-1]))\n",
        "x = layers.Reshape((-1, raw_data.shape[-1]))(inputs)  # Reshape if needed\n",
        "x = layers.Dense(16, activation=\"relu\")(x)\n",
        "outputs = layers.Dense(1)(x) #예측치\n",
        "model = keras.Model(inputs, outputs)\n",
        "\n",
        "callbacks = [\n",
        "    keras.callbacks.ModelCheckpoint(\"jena_dense.keras\",\n",
        "                                    save_best_only=True)\n",
        "]"
      ]
    },
    {
      "cell_type": "code",
      "source": [
        "# 훈련\n",
        "model.compile(optimizer=\"rmsprop\", loss=\"mse\", metrics=[\"mae\"])\n",
        "history = model.fit(train_dataset,\n",
        "                    epochs=10,\n",
        "                    validation_data=val_dataset,\n",
        "                    callbacks=callbacks)"
      ],
      "metadata": {
        "colab": {
          "base_uri": "https://localhost:8080/"
        },
        "id": "XpTRRZt6Uugt",
        "outputId": "626601c1-1f4e-4553-dec8-0cb727f06e31"
      },
      "execution_count": 31,
      "outputs": [
        {
          "output_type": "stream",
          "name": "stdout",
          "text": [
            "Epoch 1/10\n",
            "\u001b[1m819/819\u001b[0m \u001b[32m━━━━━━━━━━━━━━━━━━━━\u001b[0m\u001b[37m\u001b[0m \u001b[1m49s\u001b[0m 57ms/step - loss: 113.5770 - mae: 8.6632 - val_loss: 67.7234 - val_mae: 6.7606\n",
            "Epoch 2/10\n",
            "\u001b[1m819/819\u001b[0m \u001b[32m━━━━━━━━━━━━━━━━━━━━\u001b[0m\u001b[37m\u001b[0m \u001b[1m76s\u001b[0m 52ms/step - loss: 77.0529 - mae: 7.1092 - val_loss: 65.6985 - val_mae: 6.6700\n",
            "Epoch 3/10\n",
            "\u001b[1m819/819\u001b[0m \u001b[32m━━━━━━━━━━━━━━━━━━━━\u001b[0m\u001b[37m\u001b[0m \u001b[1m82s\u001b[0m 52ms/step - loss: 76.2051 - mae: 7.0709 - val_loss: 65.6508 - val_mae: 6.6693\n",
            "Epoch 4/10\n",
            "\u001b[1m819/819\u001b[0m \u001b[32m━━━━━━━━━━━━━━━━━━━━\u001b[0m\u001b[37m\u001b[0m \u001b[1m43s\u001b[0m 52ms/step - loss: 76.1678 - mae: 7.0708 - val_loss: 65.6090 - val_mae: 6.6676\n",
            "Epoch 5/10\n",
            "\u001b[1m819/819\u001b[0m \u001b[32m━━━━━━━━━━━━━━━━━━━━\u001b[0m\u001b[37m\u001b[0m \u001b[1m89s\u001b[0m 61ms/step - loss: 76.1516 - mae: 7.0698 - val_loss: 65.3884 - val_mae: 6.6566\n",
            "Epoch 6/10\n",
            "\u001b[1m819/819\u001b[0m \u001b[32m━━━━━━━━━━━━━━━━━━━━\u001b[0m\u001b[37m\u001b[0m \u001b[1m82s\u001b[0m 61ms/step - loss: 76.0951 - mae: 7.0676 - val_loss: 65.3236 - val_mae: 6.6533\n",
            "Epoch 7/10\n",
            "\u001b[1m819/819\u001b[0m \u001b[32m━━━━━━━━━━━━━━━━━━━━\u001b[0m\u001b[37m\u001b[0m \u001b[1m51s\u001b[0m 61ms/step - loss: 76.2037 - mae: 7.0719 - val_loss: 65.5722 - val_mae: 6.6660\n",
            "Epoch 8/10\n",
            "\u001b[1m819/819\u001b[0m \u001b[32m━━━━━━━━━━━━━━━━━━━━\u001b[0m\u001b[37m\u001b[0m \u001b[1m43s\u001b[0m 53ms/step - loss: 76.0844 - mae: 7.0664 - val_loss: 65.6205 - val_mae: 6.6685\n",
            "Epoch 9/10\n",
            "\u001b[1m819/819\u001b[0m \u001b[32m━━━━━━━━━━━━━━━━━━━━\u001b[0m\u001b[37m\u001b[0m \u001b[1m84s\u001b[0m 56ms/step - loss: 76.0546 - mae: 7.0646 - val_loss: 65.3833 - val_mae: 6.6564\n",
            "Epoch 10/10\n",
            "\u001b[1m819/819\u001b[0m \u001b[32m━━━━━━━━━━━━━━━━━━━━\u001b[0m\u001b[37m\u001b[0m \u001b[1m86s\u001b[0m 61ms/step - loss: 76.0282 - mae: 7.0633 - val_loss: 65.4188 - val_mae: 6.6583\n"
          ]
        }
      ]
    },
    {
      "cell_type": "code",
      "source": [
        "model = keras.models.load_model(\"jena_dense.keras\")\n",
        "print(f\"테스트 MAE: {model.evaluate(test_dataset)[1]:.2f}\")"
      ],
      "metadata": {
        "colab": {
          "base_uri": "https://localhost:8080/"
        },
        "id": "wRDVVxJbUm2o",
        "outputId": "40cbc53c-485a-4ff6-f20e-08d0fc36c8c2"
      },
      "execution_count": 32,
      "outputs": [
        {
          "output_type": "stream",
          "name": "stdout",
          "text": [
            "\u001b[1m405/405\u001b[0m \u001b[32m━━━━━━━━━━━━━━━━━━━━\u001b[0m\u001b[37m\u001b[0m \u001b[1m16s\u001b[0m 37ms/step - loss: 66.0768 - mae: 6.6522\n",
            "테스트 MAE: 6.64\n"
          ]
        }
      ]
    },
    {
      "cell_type": "markdown",
      "metadata": {
        "id": "lmTjKA_qjbce"
      },
      "source": [
        "**결과 그래프 그리기**"
      ]
    },
    {
      "cell_type": "code",
      "execution_count": 33,
      "metadata": {
        "execution": {
          "iopub.execute_input": "2022-05-20T13:30:16.410386Z",
          "iopub.status.busy": "2022-05-20T13:30:16.410076Z",
          "iopub.status.idle": "2022-05-20T13:30:16.562302Z",
          "shell.execute_reply": "2022-05-20T13:30:16.561390Z"
        },
        "id": "GE_ngKAZjbce",
        "outputId": "8e42a570-042a-4d89-a45e-b15ab8be2524",
        "colab": {
          "base_uri": "https://localhost:8080/",
          "height": 452
        }
      },
      "outputs": [
        {
          "output_type": "display_data",
          "data": {
            "text/plain": [
              "<Figure size 640x480 with 1 Axes>"
            ],
            "image/png": "[encoded data removed]"
          },
          "metadata": {}
        }
      ],
      "source": [
        "import matplotlib.pyplot as plt\n",
        "loss = history.history[\"mae\"]\n",
        "val_loss = history.history[\"val_mae\"]\n",
        "epochs = range(1, len(loss) + 1)\n",
        "plt.figure()\n",
        "plt.plot(epochs, loss, \"bo\", label=\"Training MAE\")\n",
        "plt.plot(epochs, val_loss, \"b\", label=\"Validation MAE\")\n",
        "plt.title(\"Training and validation MAE\")\n",
        "plt.legend()\n",
        "plt.show()"
      ]
    },
    {
      "cell_type": "markdown",
      "metadata": {
        "id": "nHd3-Y89jbce"
      },
      "source": [
        "### 1D 합성곱 모델 시도해 보기"
      ]
    },
    {
      "cell_type": "code",
      "execution_count": 35,
      "metadata": {
        "execution": {
          "iopub.execute_input": "2022-05-20T13:30:16.566194Z",
          "iopub.status.busy": "2022-05-20T13:30:16.565904Z",
          "iopub.status.idle": "2022-05-20T13:35:49.724331Z",
          "shell.execute_reply": "2022-05-20T13:35:49.723349Z"
        },
        "id": "MIodgX8jjbce",
        "outputId": "cad388e6-4744-447b-fcd6-cc2ad27b5ef8",
        "colab": {
          "base_uri": "https://localhost:8080/"
        }
      },
      "outputs": [
        {
          "output_type": "stream",
          "name": "stdout",
          "text": [
            "Epoch 1/10\n",
            "\u001b[1m819/819\u001b[0m \u001b[32m━━━━━━━━━━━━━━━━━━━━\u001b[0m\u001b[37m\u001b[0m \u001b[1m51s\u001b[0m 57ms/step - loss: 31.0267 - mae: 4.2956 - val_loss: 15.9494 - val_mae: 3.1887\n",
            "Epoch 2/10\n",
            "\u001b[1m819/819\u001b[0m \u001b[32m━━━━━━━━━━━━━━━━━━━━\u001b[0m\u001b[37m\u001b[0m \u001b[1m51s\u001b[0m 62ms/step - loss: 15.8312 - mae: 3.1531 - val_loss: 15.1394 - val_mae: 3.0846\n",
            "Epoch 3/10\n",
            "\u001b[1m819/819\u001b[0m \u001b[32m━━━━━━━━━━━━━━━━━━━━\u001b[0m\u001b[37m\u001b[0m \u001b[1m51s\u001b[0m 62ms/step - loss: 14.5383 - mae: 3.0235 - val_loss: 15.4227 - val_mae: 3.0821\n",
            "Epoch 4/10\n",
            "\u001b[1m819/819\u001b[0m \u001b[32m━━━━━━━━━━━━━━━━━━━━\u001b[0m\u001b[37m\u001b[0m \u001b[1m82s\u001b[0m 61ms/step - loss: 13.7561 - mae: 2.9339 - val_loss: 14.5051 - val_mae: 3.0071\n",
            "Epoch 5/10\n",
            "\u001b[1m819/819\u001b[0m \u001b[32m━━━━━━━━━━━━━━━━━━━━\u001b[0m\u001b[37m\u001b[0m \u001b[1m50s\u001b[0m 61ms/step - loss: 13.0888 - mae: 2.8593 - val_loss: 14.5247 - val_mae: 3.0228\n",
            "Epoch 6/10\n",
            "\u001b[1m819/819\u001b[0m \u001b[32m━━━━━━━━━━━━━━━━━━━━\u001b[0m\u001b[37m\u001b[0m \u001b[1m50s\u001b[0m 61ms/step - loss: 12.5531 - mae: 2.8002 - val_loss: 15.9815 - val_mae: 3.1797\n",
            "Epoch 7/10\n",
            "\u001b[1m819/819\u001b[0m \u001b[32m━━━━━━━━━━━━━━━━━━━━\u001b[0m\u001b[37m\u001b[0m \u001b[1m82s\u001b[0m 61ms/step - loss: 12.0871 - mae: 2.7516 - val_loss: 14.0558 - val_mae: 2.9685\n",
            "Epoch 8/10\n",
            "\u001b[1m819/819\u001b[0m \u001b[32m━━━━━━━━━━━━━━━━━━━━\u001b[0m\u001b[37m\u001b[0m \u001b[1m76s\u001b[0m 54ms/step - loss: 11.6415 - mae: 2.6990 - val_loss: 14.3466 - val_mae: 3.0081\n",
            "Epoch 9/10\n",
            "\u001b[1m819/819\u001b[0m \u001b[32m━━━━━━━━━━━━━━━━━━━━\u001b[0m\u001b[37m\u001b[0m \u001b[1m81s\u001b[0m 54ms/step - loss: 11.2071 - mae: 2.6489 - val_loss: 14.9160 - val_mae: 3.0547\n",
            "Epoch 10/10\n",
            "\u001b[1m819/819\u001b[0m \u001b[32m━━━━━━━━━━━━━━━━━━━━\u001b[0m\u001b[37m\u001b[0m \u001b[1m88s\u001b[0m 61ms/step - loss: 10.8216 - mae: 2.6047 - val_loss: 14.7430 - val_mae: 3.0302\n",
            "\u001b[1m405/405\u001b[0m \u001b[32m━━━━━━━━━━━━━━━━━━━━\u001b[0m\u001b[37m\u001b[0m \u001b[1m16s\u001b[0m 36ms/step - loss: 15.4771 - mae: 3.1071\n",
            "테스트 MAE: 3.11\n"
          ]
        }
      ],
      "source": [
        "inputs = keras.Input(shape=(sequence_length, raw_data.shape[-1]))\n",
        "x = layers.Conv1D(8, 24, activation=\"relu\")(inputs)\n",
        "x = layers.MaxPooling1D(2)(x)\n",
        "x = layers.Conv1D(8, 12, activation=\"relu\")(x)\n",
        "x = layers.MaxPooling1D(2)(x)\n",
        "x = layers.Conv1D(8, 6, activation=\"relu\")(x)\n",
        "x = layers.GlobalAveragePooling1D()(x)\n",
        "outputs = layers.Dense(1)(x)\n",
        "model = keras.Model(inputs, outputs)\n",
        "\n",
        "callbacks = [\n",
        "    keras.callbacks.ModelCheckpoint(\"jena_conv.keras\",\n",
        "                                    save_best_only=True)\n",
        "]\n",
        "model.compile(optimizer=\"rmsprop\", loss=\"mse\", metrics=[\"mae\"])\n",
        "history = model.fit(train_dataset,\n",
        "                    epochs=10,\n",
        "                    validation_data=val_dataset,\n",
        "                    callbacks=callbacks)\n",
        "\n",
        "model = keras.models.load_model(\"jena_conv.keras\")\n",
        "print(f\"테스트 MAE: {model.evaluate(test_dataset)[1]:.2f}\")"
      ]
    },
    {
      "cell_type": "code",
      "execution_count": 36,
      "metadata": {
        "execution": {
          "iopub.execute_input": "2022-05-20T13:35:49.728113Z",
          "iopub.status.busy": "2022-05-20T13:35:49.727783Z",
          "iopub.status.idle": "2022-05-20T13:35:49.850064Z",
          "shell.execute_reply": "2022-05-20T13:35:49.849311Z"
        },
        "id": "twXzOJXkjbce",
        "outputId": "dfce5848-13b1-4c60-c337-b5c161cbca00",
        "colab": {
          "base_uri": "https://localhost:8080/",
          "height": 452
        }
      },
      "outputs": [
        {
          "output_type": "display_data",
          "data": {
            "text/plain": [
              "<Figure size 640x480 with 1 Axes>"
            ],
            "image/png": "[encoded data removed]"
          },
          "metadata": {}
        }
      ],
      "source": [
        "loss = history.history[\"mae\"]\n",
        "val_loss = history.history[\"val_mae\"]\n",
        "epochs = range(1, len(loss) + 1)\n",
        "plt.figure()\n",
        "plt.plot(epochs, loss, \"bo\", label=\"Training MAE\")\n",
        "plt.plot(epochs, val_loss, \"b\", label=\"Validation MAE\")\n",
        "plt.title(\"Training and validation MAE\")\n",
        "plt.legend()\n",
        "plt.show()"
      ]
    },
    {
      "cell_type": "markdown",
      "metadata": {
        "id": "SIVEXb7ojbcf"
      },
      "source": [
        "### 첫 번째 순환 신경망"
      ]
    },
    {
      "cell_type": "markdown",
      "metadata": {
        "id": "KGsF8BjGjbcf"
      },
      "source": [
        "**간단한 LSTM 기반 모델**"
      ]
    },
    {
      "cell_type": "code",
      "execution_count": 37,
      "metadata": {
        "execution": {
          "iopub.execute_input": "2022-05-20T13:35:49.855589Z",
          "iopub.status.busy": "2022-05-20T13:35:49.855249Z",
          "iopub.status.idle": "2022-05-20T13:46:15.333207Z",
          "shell.execute_reply": "2022-05-20T13:46:15.332248Z"
        },
        "id": "ElIY09G2jbcg",
        "outputId": "32e32ebd-c888-47bb-c78c-3829def0a2d0",
        "colab": {
          "base_uri": "https://localhost:8080/"
        }
      },
      "outputs": [
        {
          "output_type": "stream",
          "name": "stdout",
          "text": [
            "Epoch 1/10\n",
            "\u001b[1m819/819\u001b[0m \u001b[32m━━━━━━━━━━━━━━━━━━━━\u001b[0m\u001b[37m\u001b[0m \u001b[1m51s\u001b[0m 58ms/step - loss: 71.8197 - mae: 6.4732 - val_loss: 13.0486 - val_mae: 2.7497\n",
            "Epoch 2/10\n",
            "\u001b[1m819/819\u001b[0m \u001b[32m━━━━━━━━━━━━━━━━━━━━\u001b[0m\u001b[37m\u001b[0m \u001b[1m80s\u001b[0m 57ms/step - loss: 11.9796 - mae: 2.6773 - val_loss: 9.9030 - val_mae: 2.4534\n",
            "Epoch 3/10\n",
            "\u001b[1m819/819\u001b[0m \u001b[32m━━━━━━━━━━━━━━━━━━━━\u001b[0m\u001b[37m\u001b[0m \u001b[1m83s\u001b[0m 58ms/step - loss: 10.1607 - mae: 2.4824 - val_loss: 9.8236 - val_mae: 2.4281\n",
            "Epoch 4/10\n",
            "\u001b[1m819/819\u001b[0m \u001b[32m━━━━━━━━━━━━━━━━━━━━\u001b[0m\u001b[37m\u001b[0m \u001b[1m82s\u001b[0m 58ms/step - loss: 9.7265 - mae: 2.4278 - val_loss: 9.5762 - val_mae: 2.3954\n",
            "Epoch 5/10\n",
            "\u001b[1m819/819\u001b[0m \u001b[32m━━━━━━━━━━━━━━━━━━━━\u001b[0m\u001b[37m\u001b[0m \u001b[1m81s\u001b[0m 57ms/step - loss: 9.3902 - mae: 2.3878 - val_loss: 9.5135 - val_mae: 2.3928\n",
            "Epoch 6/10\n",
            "\u001b[1m819/819\u001b[0m \u001b[32m━━━━━━━━━━━━━━━━━━━━\u001b[0m\u001b[37m\u001b[0m \u001b[1m82s\u001b[0m 57ms/step - loss: 9.1455 - mae: 2.3572 - val_loss: 9.5817 - val_mae: 2.4003\n",
            "Epoch 7/10\n",
            "\u001b[1m819/819\u001b[0m \u001b[32m━━━━━━━━━━━━━━━━━━━━\u001b[0m\u001b[37m\u001b[0m \u001b[1m48s\u001b[0m 58ms/step - loss: 8.9219 - mae: 2.3298 - val_loss: 9.7098 - val_mae: 2.4249\n",
            "Epoch 8/10\n",
            "\u001b[1m819/819\u001b[0m \u001b[32m━━━━━━━━━━━━━━━━━━━━\u001b[0m\u001b[37m\u001b[0m \u001b[1m47s\u001b[0m 57ms/step - loss: 8.7111 - mae: 2.3000 - val_loss: 9.5367 - val_mae: 2.3990\n",
            "Epoch 9/10\n",
            "\u001b[1m819/819\u001b[0m \u001b[32m━━━━━━━━━━━━━━━━━━━━\u001b[0m\u001b[37m\u001b[0m \u001b[1m90s\u001b[0m 66ms/step - loss: 8.5702 - mae: 2.2805 - val_loss: 9.8214 - val_mae: 2.4369\n",
            "Epoch 10/10\n",
            "\u001b[1m819/819\u001b[0m \u001b[32m━━━━━━━━━━━━━━━━━━━━\u001b[0m\u001b[37m\u001b[0m \u001b[1m76s\u001b[0m 59ms/step - loss: 8.4726 - mae: 2.2674 - val_loss: 9.8501 - val_mae: 2.4449\n",
            "\u001b[1m405/405\u001b[0m \u001b[32m━━━━━━━━━━━━━━━━━━━━\u001b[0m\u001b[37m\u001b[0m \u001b[1m16s\u001b[0m 37ms/step - loss: 11.3988 - mae: 2.6284\n",
            "테스트 MAE: 2.62\n"
          ]
        }
      ],
      "source": [
        "inputs = keras.Input(shape=(sequence_length, raw_data.shape[-1]))\n",
        "x = layers.LSTM(16)(inputs) #layer\n",
        "outputs = layers.Dense(1)(x)\n",
        "model = keras.Model(inputs, outputs)\n",
        "\n",
        "callbacks = [\n",
        "    keras.callbacks.ModelCheckpoint(\"jena_lstm.keras\",\n",
        "                                    save_best_only=True)\n",
        "]\n",
        "model.compile(optimizer=\"rmsprop\", loss=\"mse\", metrics=[\"mae\"])\n",
        "history = model.fit(train_dataset,\n",
        "                    epochs=10,\n",
        "                    validation_data=val_dataset,\n",
        "                    callbacks=callbacks)\n",
        "\n",
        "model = keras.models.load_model(\"jena_lstm.keras\")\n",
        "print(f\"테스트 MAE: {model.evaluate(test_dataset)[1]:.2f}\")"
      ]
    },
    {
      "cell_type": "code",
      "execution_count": 38,
      "metadata": {
        "execution": {
          "iopub.execute_input": "2022-05-20T13:46:15.336897Z",
          "iopub.status.busy": "2022-05-20T13:46:15.336598Z",
          "iopub.status.idle": "2022-05-20T13:46:15.462410Z",
          "shell.execute_reply": "2022-05-20T13:46:15.461466Z"
        },
        "id": "EX3qK89tjbcg",
        "outputId": "ebed67c5-6654-454a-c558-5a3137119a4d",
        "colab": {
          "base_uri": "https://localhost:8080/",
          "height": 452
        }
      },
      "outputs": [
        {
          "output_type": "display_data",
          "data": {
            "text/plain": [
              "<Figure size 640x480 with 1 Axes>"
            ],
            "image/png": "[encoded data removed]"
          },
          "metadata": {}
        }
      ],
      "source": [
        "loss = history.history[\"mae\"]\n",
        "val_loss = history.history[\"val_mae\"]\n",
        "epochs = range(1, len(loss) + 1)\n",
        "plt.figure()\n",
        "plt.plot(epochs, loss, \"bo\", label=\"Training MAE\")\n",
        "plt.plot(epochs, val_loss, \"b\", label=\"Validation MAE\")\n",
        "plt.title(\"Training and validation MAE\")\n",
        "plt.legend()\n",
        "plt.show()"
      ]
    },
    {
      "cell_type": "markdown",
      "metadata": {
        "id": "OjfiTkmOjbcg"
      },
      "source": [
        "## 순환 신경망 이해하기"
      ]
    },
    {
      "cell_type": "markdown",
      "metadata": {
        "id": "11qaJzuKjbcg"
      },
      "source": [
        "**넘파이로 구현한 간단한 RNN**"
      ]
    },
    {
      "cell_type": "code",
      "execution_count": null,
      "metadata": {
        "execution": {
          "iopub.execute_input": "2022-05-20T13:46:15.466402Z",
          "iopub.status.busy": "2022-05-20T13:46:15.466102Z",
          "iopub.status.idle": "2022-05-20T13:46:15.474183Z",
          "shell.execute_reply": "2022-05-20T13:46:15.473353Z"
        },
        "id": "LqYsbiAGjbcg"
      },
      "outputs": [],
      "source": [
        "import numpy as np\n",
        "timesteps = 100\n",
        "input_features = 32\n",
        "output_features = 64\n",
        "inputs = np.random.random((timesteps, input_features))\n",
        "state_t = np.zeros((output_features,))\n",
        "W = np.random.random((output_features, input_features))\n",
        "U = np.random.random((output_features, output_features))\n",
        "b = np.random.random((output_features,))\n",
        "successive_outputs = []\n",
        "for input_t in inputs:\n",
        "    output_t = np.tanh(np.dot(W, input_t) + np.dot(U, state_t) + b)\n",
        "    successive_outputs.append(output_t)\n",
        "    state_t = output_t\n",
        "final_output_sequence = np.stack(successive_outputs, axis=0)"
      ]
    },
    {
      "cell_type": "markdown",
      "metadata": {
        "id": "m5_JDLW5jbch"
      },
      "source": [
        "### 케라스의 순환 층"
      ]
    },
    {
      "cell_type": "markdown",
      "metadata": {
        "id": "8scRPX8yjbch"
      },
      "source": [
        "**어떤 길이의 시퀀스도 처리할 수 있는 RNN 층**"
      ]
    },
    {
      "cell_type": "code",
      "execution_count": null,
      "metadata": {
        "execution": {
          "iopub.execute_input": "2022-05-20T13:46:15.477895Z",
          "iopub.status.busy": "2022-05-20T13:46:15.477617Z",
          "iopub.status.idle": "2022-05-20T13:46:15.532690Z",
          "shell.execute_reply": "2022-05-20T13:46:15.531842Z"
        },
        "id": "RDRvy-SDjbch"
      },
      "outputs": [],
      "source": [
        "num_features = 14\n",
        "inputs = keras.Input(shape=(None, num_features))\n",
        "outputs = layers.SimpleRNN(16)(inputs)"
      ]
    },
    {
      "cell_type": "markdown",
      "metadata": {
        "id": "d_cZi_TVjbch"
      },
      "source": [
        "**마지막 출력 스텝만 반환하는 RNN 층**"
      ]
    },
    {
      "cell_type": "code",
      "execution_count": null,
      "metadata": {
        "execution": {
          "iopub.execute_input": "2022-05-20T13:46:15.536872Z",
          "iopub.status.busy": "2022-05-20T13:46:15.536352Z",
          "iopub.status.idle": "2022-05-20T13:46:15.590222Z",
          "shell.execute_reply": "2022-05-20T13:46:15.589305Z"
        },
        "id": "7OpmWg1yjbch",
        "outputId": "13eb9a16-45d7-44bb-d7af-7cd0ca8e2986",
        "colab": {
          "base_uri": "https://localhost:8080/"
        }
      },
      "outputs": [
        {
          "output_type": "stream",
          "name": "stdout",
          "text": [
            "(None, 16)\n"
          ]
        }
      ],
      "source": [
        "num_features = 14\n",
        "steps = 120\n",
        "inputs = keras.Input(shape=(steps, num_features))\n",
        "outputs = layers.SimpleRNN(16, return_sequences=False)(inputs)\n",
        "print(outputs.shape)"
      ]
    },
    {
      "cell_type": "markdown",
      "metadata": {
        "id": "MvXPhL0qjbch"
      },
      "source": [
        "**전체 출력 시퀀스를 반환하는 RNN 층**"
      ]
    },
    {
      "cell_type": "code",
      "execution_count": null,
      "metadata": {
        "execution": {
          "iopub.execute_input": "2022-05-20T13:46:15.594315Z",
          "iopub.status.busy": "2022-05-20T13:46:15.593481Z",
          "iopub.status.idle": "2022-05-20T13:46:15.647526Z",
          "shell.execute_reply": "2022-05-20T13:46:15.646394Z"
        },
        "id": "jDKDaTY9jbch",
        "outputId": "b50928d0-1f3d-46d4-e106-a3b92607392d",
        "colab": {
          "base_uri": "https://localhost:8080/"
        }
      },
      "outputs": [
        {
          "output_type": "stream",
          "name": "stdout",
          "text": [
            "(None, 120, 16)\n"
          ]
        }
      ],
      "source": [
        "num_features = 14\n",
        "steps = 120\n",
        "inputs = keras.Input(shape=(steps, num_features))\n",
        "outputs = layers.SimpleRNN(16, return_sequences=True)(inputs)\n",
        "print(outputs.shape)"
      ]
    },
    {
      "cell_type": "markdown",
      "metadata": {
        "id": "Twps5rVojbch"
      },
      "source": [
        "**스태킹(stacking) RNN 층**"
      ]
    },
    {
      "cell_type": "code",
      "execution_count": null,
      "metadata": {
        "execution": {
          "iopub.execute_input": "2022-05-20T13:46:15.651371Z",
          "iopub.status.busy": "2022-05-20T13:46:15.651069Z",
          "iopub.status.idle": "2022-05-20T13:46:15.801889Z",
          "shell.execute_reply": "2022-05-20T13:46:15.801117Z"
        },
        "id": "WCXNh9L6jbci"
      },
      "outputs": [],
      "source": [
        "inputs = keras.Input(shape=(steps, num_features))\n",
        "x = layers.SimpleRNN(16, return_sequences=True)(inputs)\n",
        "x = layers.SimpleRNN(16, return_sequences=True)(x)\n",
        "outputs = layers.SimpleRNN(16)(x)"
      ]
    },
    {
      "cell_type": "markdown",
      "metadata": {
        "id": "5UTaHUSfjbci"
      },
      "source": [
        "## 순환 신경망의 고급 사용법"
      ]
    },
    {
      "cell_type": "markdown",
      "metadata": {
        "id": "HfvBqBgLjbci"
      },
      "source": [
        "### 과대적합을 감소하기 위해 순환 드롭아웃 사용하기"
      ]
    },
    {
      "cell_type": "markdown",
      "metadata": {
        "id": "tzGShMPQjbci"
      },
      "source": [
        "**드롭아웃 규제를 적용한 LSTM 모델 훈련하고 평가하기**"
      ]
    },
    {
      "cell_type": "code",
      "execution_count": null,
      "metadata": {
        "execution": {
          "iopub.execute_input": "2022-05-20T13:46:15.806506Z",
          "iopub.status.busy": "2022-05-20T13:46:15.805817Z",
          "iopub.status.idle": "2022-05-20T15:04:54.368986Z",
          "shell.execute_reply": "2022-05-20T15:04:54.368048Z"
        },
        "id": "ZDfwJ1Osjbci",
        "outputId": "5448682c-47fe-4ee4-f44b-ce40d10d177f",
        "colab": {
          "base_uri": "https://localhost:8080/"
        }
      },
      "outputs": [
        {
          "output_type": "stream",
          "name": "stdout",
          "text": [
            "Epoch 1/50\n",
            "819/819 [==============================] - 57s 66ms/step - loss: 25.4986 - mae: 3.7522 - val_loss: 9.8706 - val_mae: 2.4336\n",
            "Epoch 2/50\n",
            "819/819 [==============================] - 45s 55ms/step - loss: 14.4447 - mae: 2.9416 - val_loss: 9.6151 - val_mae: 2.4041\n",
            "Epoch 3/50\n",
            "819/819 [==============================] - 45s 55ms/step - loss: 13.3854 - mae: 2.8292 - val_loss: 9.1080 - val_mae: 2.3482\n",
            "Epoch 4/50\n",
            "819/819 [==============================] - 45s 54ms/step - loss: 12.6074 - mae: 2.7476 - val_loss: 9.1785 - val_mae: 2.3614\n",
            "Epoch 5/50\n",
            "819/819 [==============================] - 46s 56ms/step - loss: 11.9744 - mae: 2.6818 - val_loss: 9.6602 - val_mae: 2.4325\n",
            "Epoch 6/50\n",
            "819/819 [==============================] - 52s 64ms/step - loss: 11.5510 - mae: 2.6302 - val_loss: 9.8566 - val_mae: 2.4397\n",
            "Epoch 7/50\n",
            "819/819 [==============================] - 45s 55ms/step - loss: 11.1829 - mae: 2.5894 - val_loss: 9.9830 - val_mae: 2.4565\n",
            "Epoch 8/50\n",
            "819/819 [==============================] - 52s 64ms/step - loss: 10.8488 - mae: 2.5491 - val_loss: 9.9855 - val_mae: 2.4540\n",
            "Epoch 9/50\n",
            "819/819 [==============================] - 52s 63ms/step - loss: 10.5122 - mae: 2.5074 - val_loss: 9.9750 - val_mae: 2.4552\n",
            "Epoch 10/50\n",
            "819/819 [==============================] - 52s 64ms/step - loss: 10.2381 - mae: 2.4736 - val_loss: 9.8188 - val_mae: 2.4285\n",
            "Epoch 11/50\n",
            "819/819 [==============================] - 52s 64ms/step - loss: 10.0666 - mae: 2.4539 - val_loss: 9.9175 - val_mae: 2.4407\n",
            "Epoch 12/50\n",
            "819/819 [==============================] - 53s 64ms/step - loss: 9.8885 - mae: 2.4292 - val_loss: 10.3388 - val_mae: 2.4796\n",
            "Epoch 13/50\n",
            "819/819 [==============================] - 43s 53ms/step - loss: 9.6407 - mae: 2.4019 - val_loss: 10.5940 - val_mae: 2.5119\n",
            "Epoch 14/50\n",
            "819/819 [==============================] - 51s 61ms/step - loss: 9.4883 - mae: 2.3839 - val_loss: 10.3215 - val_mae: 2.4897\n",
            "Epoch 15/50\n",
            "819/819 [==============================] - 43s 52ms/step - loss: 9.2910 - mae: 2.3578 - val_loss: 10.8644 - val_mae: 2.5587\n",
            "Epoch 16/50\n",
            "819/819 [==============================] - 45s 55ms/step - loss: 9.2247 - mae: 2.3478 - val_loss: 10.4439 - val_mae: 2.5084\n",
            "Epoch 17/50\n",
            "819/819 [==============================] - 43s 52ms/step - loss: 9.0260 - mae: 2.3257 - val_loss: 10.8093 - val_mae: 2.5439\n",
            "Epoch 18/50\n",
            "819/819 [==============================] - 42s 52ms/step - loss: 8.8336 - mae: 2.2995 - val_loss: 10.5174 - val_mae: 2.5241\n",
            "Epoch 19/50\n",
            "819/819 [==============================] - 51s 62ms/step - loss: 8.7315 - mae: 2.2882 - val_loss: 10.7891 - val_mae: 2.5436\n",
            "Epoch 20/50\n",
            "819/819 [==============================] - 45s 54ms/step - loss: 8.6459 - mae: 2.2758 - val_loss: 11.7115 - val_mae: 2.6362\n",
            "Epoch 21/50\n",
            "819/819 [==============================] - 52s 63ms/step - loss: 8.5328 - mae: 2.2556 - val_loss: 10.6754 - val_mae: 2.5366\n",
            "Epoch 22/50\n",
            "819/819 [==============================] - 50s 61ms/step - loss: 8.4481 - mae: 2.2449 - val_loss: 11.1854 - val_mae: 2.6017\n",
            "Epoch 23/50\n",
            "819/819 [==============================] - 41s 50ms/step - loss: 8.3170 - mae: 2.2281 - val_loss: 11.4942 - val_mae: 2.6337\n",
            "Epoch 24/50\n",
            "819/819 [==============================] - 44s 53ms/step - loss: 8.1969 - mae: 2.2113 - val_loss: 11.3965 - val_mae: 2.6321\n",
            "Epoch 25/50\n",
            "819/819 [==============================] - 44s 53ms/step - loss: 8.1032 - mae: 2.2016 - val_loss: 11.6903 - val_mae: 2.6496\n",
            "Epoch 26/50\n",
            "819/819 [==============================] - 52s 63ms/step - loss: 8.0902 - mae: 2.1973 - val_loss: 11.7693 - val_mae: 2.6579\n",
            "Epoch 27/50\n",
            "819/819 [==============================] - 44s 53ms/step - loss: 8.0150 - mae: 2.1830 - val_loss: 12.3008 - val_mae: 2.7247\n",
            "Epoch 28/50\n",
            "819/819 [==============================] - 52s 63ms/step - loss: 7.9218 - mae: 2.1727 - val_loss: 11.6535 - val_mae: 2.6532\n",
            "Epoch 29/50\n",
            "819/819 [==============================] - 44s 53ms/step - loss: 7.8722 - mae: 2.1669 - val_loss: 11.7176 - val_mae: 2.6710\n",
            "Epoch 30/50\n",
            "819/819 [==============================] - 43s 52ms/step - loss: 7.8223 - mae: 2.1607 - val_loss: 11.8862 - val_mae: 2.6703\n",
            "Epoch 31/50\n",
            "819/819 [==============================] - 54s 65ms/step - loss: 7.7822 - mae: 2.1542 - val_loss: 11.7702 - val_mae: 2.6802\n",
            "Epoch 32/50\n",
            "819/819 [==============================] - 44s 54ms/step - loss: 7.6700 - mae: 2.1390 - val_loss: 11.7326 - val_mae: 2.6548\n",
            "Epoch 33/50\n",
            "819/819 [==============================] - 53s 64ms/step - loss: 7.6104 - mae: 2.1305 - val_loss: 12.0417 - val_mae: 2.6959\n",
            "Epoch 34/50\n",
            "819/819 [==============================] - 52s 64ms/step - loss: 7.5418 - mae: 2.1213 - val_loss: 12.0713 - val_mae: 2.7156\n",
            "Epoch 35/50\n",
            "819/819 [==============================] - 46s 56ms/step - loss: 7.5991 - mae: 2.1265 - val_loss: 11.8309 - val_mae: 2.6712\n",
            "Epoch 36/50\n",
            "819/819 [==============================] - 51s 62ms/step - loss: 7.4671 - mae: 2.1101 - val_loss: 11.6795 - val_mae: 2.6549\n",
            "Epoch 37/50\n",
            "819/819 [==============================] - 53s 65ms/step - loss: 7.4418 - mae: 2.1002 - val_loss: 12.2726 - val_mae: 2.7131\n",
            "Epoch 38/50\n",
            "819/819 [==============================] - 52s 63ms/step - loss: 7.3467 - mae: 2.0913 - val_loss: 12.3240 - val_mae: 2.7344\n",
            "Epoch 39/50\n",
            "819/819 [==============================] - 53s 65ms/step - loss: 7.3312 - mae: 2.0872 - val_loss: 12.5737 - val_mae: 2.7530\n",
            "Epoch 40/50\n",
            "819/819 [==============================] - 53s 65ms/step - loss: 7.2847 - mae: 2.0797 - val_loss: 12.5659 - val_mae: 2.7555\n",
            "Epoch 41/50\n",
            "819/819 [==============================] - 52s 63ms/step - loss: 7.2394 - mae: 2.0739 - val_loss: 12.2820 - val_mae: 2.7487\n",
            "Epoch 42/50\n",
            "819/819 [==============================] - 43s 52ms/step - loss: 7.1787 - mae: 2.0670 - val_loss: 12.4972 - val_mae: 2.7671\n",
            "Epoch 43/50\n",
            "819/819 [==============================] - 45s 54ms/step - loss: 7.1801 - mae: 2.0662 - val_loss: 12.4279 - val_mae: 2.7455\n",
            "Epoch 44/50\n",
            "819/819 [==============================] - 44s 53ms/step - loss: 7.1909 - mae: 2.0621 - val_loss: 12.1659 - val_mae: 2.7240\n",
            "Epoch 45/50\n",
            "819/819 [==============================] - 45s 55ms/step - loss: 7.0875 - mae: 2.0499 - val_loss: 12.0019 - val_mae: 2.7073\n",
            "Epoch 46/50\n",
            "819/819 [==============================] - 42s 52ms/step - loss: 7.0072 - mae: 2.0370 - val_loss: 12.5955 - val_mae: 2.7657\n",
            "Epoch 47/50\n",
            "819/819 [==============================] - 43s 52ms/step - loss: 7.0623 - mae: 2.0469 - val_loss: 12.2096 - val_mae: 2.7393\n",
            "Epoch 48/50\n",
            "819/819 [==============================] - 44s 53ms/step - loss: 6.9894 - mae: 2.0378 - val_loss: 12.3516 - val_mae: 2.7411\n",
            "Epoch 49/50\n",
            "819/819 [==============================] - 44s 54ms/step - loss: 6.9863 - mae: 2.0351 - val_loss: 12.7507 - val_mae: 2.7650\n",
            "Epoch 50/50\n",
            "819/819 [==============================] - 42s 51ms/step - loss: 6.9292 - mae: 2.0246 - val_loss: 12.5219 - val_mae: 2.7645\n"
          ]
        }
      ],
      "source": [
        "inputs = keras.Input(shape=(sequence_length, raw_data.shape[-1]))\n",
        "# 훈련 속도를 놓이기 위해 순환 드롭아웃을 제외합니다.\n",
        "#x = layers.LSTM(32, recurrent_dropout=0.25)(inputs)\n",
        "x = layers.LSTM(32)(inputs)\n",
        "x = layers.Dropout(0.5)(x)\n",
        "outputs = layers.Dense(1)(x)\n",
        "model = keras.Model(inputs, outputs)\n",
        "\n",
        "callbacks = [\n",
        "    keras.callbacks.ModelCheckpoint(\"jena_lstm_dropout.h5\",\n",
        "                                    save_best_only=True)\n",
        "]\n",
        "model.compile(optimizer=\"rmsprop\", loss=\"mse\", metrics=[\"mae\"])\n",
        "history = model.fit(train_dataset,\n",
        "                    epochs=50,\n",
        "                    validation_data=val_dataset,\n",
        "                    callbacks=callbacks)"
      ]
    },
    {
      "cell_type": "code",
      "execution_count": null,
      "metadata": {
        "execution": {
          "iopub.execute_input": "2022-05-20T15:04:54.372845Z",
          "iopub.status.busy": "2022-05-20T15:04:54.372302Z",
          "iopub.status.idle": "2022-05-20T15:04:54.500136Z",
          "shell.execute_reply": "2022-05-20T15:04:54.499227Z"
        },
        "id": "TUqqYeRgjbci",
        "outputId": "1e87f3d2-07d2-4f42-e74a-961e592ee1f9",
        "colab": {
          "base_uri": "https://localhost:8080/",
          "height": 452
        }
      },
      "outputs": [
        {
          "output_type": "display_data",
          "data": {
            "text/plain": [
              "<Figure size 640x480 with 1 Axes>"
            ],
            "image/png": "[encoded data removed]"
          },
          "metadata": {}
        }
      ],
      "source": [
        "loss = history.history[\"mae\"]\n",
        "val_loss = history.history[\"val_mae\"]\n",
        "epochs = range(1, len(loss) + 1)\n",
        "plt.figure()\n",
        "plt.plot(epochs, loss, \"bo\", label=\"Training MAE\")\n",
        "plt.plot(epochs, val_loss, \"b\", label=\"Validation MAE\")\n",
        "plt.title(\"Training and validation MAE\")\n",
        "plt.legend()\n",
        "plt.show()"
      ]
    },
    {
      "cell_type": "code",
      "execution_count": null,
      "metadata": {
        "execution": {
          "iopub.execute_input": "2022-05-20T15:04:54.505555Z",
          "iopub.status.busy": "2022-05-20T15:04:54.504713Z",
          "iopub.status.idle": "2022-05-20T15:04:57.937020Z",
          "shell.execute_reply": "2022-05-20T15:04:57.935916Z"
        },
        "id": "u_-Jap5vjbcj",
        "outputId": "1c020a6e-ccbd-4589-c0e1-ac9cf4ae48f5",
        "colab": {
          "base_uri": "https://localhost:8080/"
        }
      },
      "outputs": [
        {
          "output_type": "stream",
          "name": "stderr",
          "text": [
            "WARNING:tensorflow:Layer lstm_2 will not use cuDNN kernels since it doesn't meet the criteria. It will use a generic GPU kernel as fallback when running on GPU.\n"
          ]
        }
      ],
      "source": [
        "inputs = keras.Input(shape=(sequence_length, num_features))\n",
        "x = layers.LSTM(32, recurrent_dropout=0.2, unroll=True)(inputs)"
      ]
    },
    {
      "cell_type": "markdown",
      "metadata": {
        "id": "dIAEo0Ttjbcj"
      },
      "source": [
        "### 스태킹 순환 층"
      ]
    },
    {
      "cell_type": "markdown",
      "metadata": {
        "id": "9AfaRKy2jbcj"
      },
      "source": [
        "**드롭아웃 규제와 스태킹을 적용한 GRU 모델을 훈련하고 평가하기**"
      ]
    },
    {
      "cell_type": "code",
      "execution_count": null,
      "metadata": {
        "execution": {
          "iopub.execute_input": "2022-05-20T15:04:57.941005Z",
          "iopub.status.busy": "2022-05-20T15:04:57.940685Z",
          "iopub.status.idle": "2022-05-20T17:21:17.499207Z",
          "shell.execute_reply": "2022-05-20T17:21:17.498103Z"
        },
        "id": "-v7IqHRsjbcj",
        "outputId": "33e7d895-4f9a-4745-e138-1083978290c0",
        "colab": {
          "base_uri": "https://localhost:8080/"
        }
      },
      "outputs": [
        {
          "output_type": "stream",
          "name": "stdout",
          "text": [
            "Epoch 1/50\n",
            "819/819 [==============================] - 51s 58ms/step - loss: 22.8440 - mae: 3.5376 - val_loss: 10.0216 - val_mae: 2.4642\n",
            "Epoch 2/50\n",
            "819/819 [==============================] - 48s 58ms/step - loss: 13.4467 - mae: 2.8365 - val_loss: 9.1210 - val_mae: 2.3532\n",
            "Epoch 3/50\n",
            "819/819 [==============================] - 45s 55ms/step - loss: 12.5574 - mae: 2.7434 - val_loss: 8.7419 - val_mae: 2.2949\n",
            "Epoch 4/50\n",
            "819/819 [==============================] - 46s 56ms/step - loss: 11.7473 - mae: 2.6557 - val_loss: 9.0236 - val_mae: 2.3442\n",
            "Epoch 5/50\n",
            "819/819 [==============================] - 54s 65ms/step - loss: 11.1289 - mae: 2.5857 - val_loss: 9.2370 - val_mae: 2.3689\n",
            "Epoch 6/50\n",
            "819/819 [==============================] - 45s 55ms/step - loss: 10.4581 - mae: 2.5057 - val_loss: 9.5454 - val_mae: 2.4172\n",
            "Epoch 7/50\n",
            "819/819 [==============================] - 47s 58ms/step - loss: 9.8363 - mae: 2.4268 - val_loss: 10.0694 - val_mae: 2.4758\n",
            "Epoch 8/50\n",
            "819/819 [==============================] - 47s 57ms/step - loss: 9.2070 - mae: 2.3489 - val_loss: 11.8144 - val_mae: 2.6840\n",
            "Epoch 9/50\n",
            "819/819 [==============================] - 45s 55ms/step - loss: 8.6518 - mae: 2.2719 - val_loss: 10.4207 - val_mae: 2.5372\n",
            "Epoch 10/50\n",
            "819/819 [==============================] - 45s 54ms/step - loss: 8.1494 - mae: 2.2023 - val_loss: 10.8794 - val_mae: 2.5728\n",
            "Epoch 11/50\n",
            "819/819 [==============================] - 56s 68ms/step - loss: 7.7268 - mae: 2.1437 - val_loss: 11.0731 - val_mae: 2.6115\n",
            "Epoch 12/50\n",
            "819/819 [==============================] - 48s 59ms/step - loss: 7.3437 - mae: 2.0845 - val_loss: 11.2584 - val_mae: 2.6359\n",
            "Epoch 13/50\n",
            "819/819 [==============================] - 45s 54ms/step - loss: 6.9795 - mae: 2.0310 - val_loss: 11.4462 - val_mae: 2.6616\n",
            "Epoch 14/50\n",
            "819/819 [==============================] - 46s 56ms/step - loss: 6.7458 - mae: 1.9899 - val_loss: 11.4366 - val_mae: 2.6633\n",
            "Epoch 15/50\n",
            "819/819 [==============================] - 47s 57ms/step - loss: 6.4761 - mae: 1.9494 - val_loss: 13.3479 - val_mae: 2.8778\n",
            "Epoch 16/50\n",
            "819/819 [==============================] - 48s 58ms/step - loss: 6.2376 - mae: 1.9104 - val_loss: 12.4025 - val_mae: 2.7766\n",
            "Epoch 17/50\n",
            "819/819 [==============================] - 53s 64ms/step - loss: 6.0623 - mae: 1.8815 - val_loss: 12.0828 - val_mae: 2.7340\n",
            "Epoch 18/50\n",
            "819/819 [==============================] - 47s 57ms/step - loss: 5.9401 - mae: 1.8583 - val_loss: 12.4278 - val_mae: 2.7732\n",
            "Epoch 19/50\n",
            "819/819 [==============================] - 46s 56ms/step - loss: 5.7513 - mae: 1.8275 - val_loss: 12.9756 - val_mae: 2.8379\n",
            "Epoch 20/50\n",
            "819/819 [==============================] - 46s 56ms/step - loss: 5.6277 - mae: 1.8082 - val_loss: 12.3878 - val_mae: 2.7626\n",
            "Epoch 21/50\n",
            "819/819 [==============================] - 47s 57ms/step - loss: 5.5174 - mae: 1.7923 - val_loss: 12.5262 - val_mae: 2.7857\n",
            "Epoch 22/50\n",
            "819/819 [==============================] - 45s 55ms/step - loss: 5.4402 - mae: 1.7751 - val_loss: 12.8304 - val_mae: 2.8223\n",
            "Epoch 23/50\n",
            "819/819 [==============================] - 47s 57ms/step - loss: 5.2961 - mae: 1.7504 - val_loss: 12.7924 - val_mae: 2.8134\n",
            "Epoch 24/50\n",
            "819/819 [==============================] - 48s 59ms/step - loss: 5.2390 - mae: 1.7407 - val_loss: 12.9842 - val_mae: 2.8528\n",
            "Epoch 25/50\n",
            "819/819 [==============================] - 54s 65ms/step - loss: 5.1705 - mae: 1.7261 - val_loss: 12.5561 - val_mae: 2.7865\n",
            "Epoch 26/50\n",
            "819/819 [==============================] - 49s 59ms/step - loss: 5.0919 - mae: 1.7113 - val_loss: 13.1329 - val_mae: 2.8616\n",
            "Epoch 27/50\n",
            "819/819 [==============================] - 49s 59ms/step - loss: 5.0037 - mae: 1.6965 - val_loss: 13.1333 - val_mae: 2.8493\n",
            "Epoch 28/50\n",
            "819/819 [==============================] - 48s 58ms/step - loss: 4.9409 - mae: 1.6856 - val_loss: 13.0040 - val_mae: 2.8309\n",
            "Epoch 29/50\n",
            "819/819 [==============================] - 47s 57ms/step - loss: 4.9046 - mae: 1.6768 - val_loss: 13.2298 - val_mae: 2.8646\n",
            "Epoch 30/50\n",
            "819/819 [==============================] - 48s 59ms/step - loss: 4.8342 - mae: 1.6648 - val_loss: 13.7260 - val_mae: 2.9129\n",
            "Epoch 31/50\n",
            "819/819 [==============================] - 48s 59ms/step - loss: 4.7925 - mae: 1.6568 - val_loss: 12.8225 - val_mae: 2.8170\n",
            "Epoch 32/50\n",
            "819/819 [==============================] - 50s 60ms/step - loss: 4.7432 - mae: 1.6477 - val_loss: 12.9575 - val_mae: 2.8242\n",
            "Epoch 33/50\n",
            "819/819 [==============================] - 47s 57ms/step - loss: 4.7277 - mae: 1.6438 - val_loss: 12.9113 - val_mae: 2.8201\n",
            "Epoch 34/50\n",
            "819/819 [==============================] - 45s 55ms/step - loss: 4.6971 - mae: 1.6360 - val_loss: 13.4627 - val_mae: 2.9010\n",
            "Epoch 35/50\n",
            "819/819 [==============================] - 49s 59ms/step - loss: 4.6079 - mae: 1.6224 - val_loss: 13.0904 - val_mae: 2.8473\n",
            "Epoch 36/50\n",
            "819/819 [==============================] - 50s 60ms/step - loss: 4.5908 - mae: 1.6170 - val_loss: 13.4342 - val_mae: 2.8787\n",
            "Epoch 37/50\n",
            "819/819 [==============================] - 45s 55ms/step - loss: 4.5897 - mae: 1.6144 - val_loss: 13.5889 - val_mae: 2.9002\n",
            "Epoch 38/50\n",
            "819/819 [==============================] - 56s 68ms/step - loss: 4.5562 - mae: 1.6073 - val_loss: 13.3792 - val_mae: 2.8734\n",
            "Epoch 39/50\n",
            "819/819 [==============================] - 48s 59ms/step - loss: 4.5062 - mae: 1.6011 - val_loss: 13.3669 - val_mae: 2.8576\n",
            "Epoch 40/50\n",
            "819/819 [==============================] - 49s 60ms/step - loss: 4.4988 - mae: 1.5970 - val_loss: 13.5926 - val_mae: 2.8983\n",
            "Epoch 41/50\n",
            "819/819 [==============================] - 49s 59ms/step - loss: 4.4507 - mae: 1.5877 - val_loss: 13.0201 - val_mae: 2.8481\n",
            "Epoch 42/50\n",
            "819/819 [==============================] - 56s 68ms/step - loss: 4.4428 - mae: 1.5861 - val_loss: 13.8423 - val_mae: 2.9251\n",
            "Epoch 43/50\n",
            "819/819 [==============================] - 48s 58ms/step - loss: 4.4128 - mae: 1.5829 - val_loss: 13.0376 - val_mae: 2.8410\n",
            "Epoch 44/50\n",
            "819/819 [==============================] - 48s 59ms/step - loss: 4.3728 - mae: 1.5722 - val_loss: 13.5246 - val_mae: 2.8782\n",
            "Epoch 45/50\n",
            "819/819 [==============================] - 48s 58ms/step - loss: 4.3393 - mae: 1.5665 - val_loss: 13.6383 - val_mae: 2.8924\n",
            "Epoch 46/50\n",
            "819/819 [==============================] - 47s 57ms/step - loss: 4.3161 - mae: 1.5642 - val_loss: 13.2954 - val_mae: 2.8655\n",
            "Epoch 47/50\n",
            "819/819 [==============================] - 49s 60ms/step - loss: 4.3288 - mae: 1.5648 - val_loss: 12.9048 - val_mae: 2.8169\n",
            "Epoch 48/50\n",
            "819/819 [==============================] - 47s 58ms/step - loss: 4.3075 - mae: 1.5599 - val_loss: 13.8102 - val_mae: 2.9179\n",
            "Epoch 49/50\n",
            "819/819 [==============================] - 49s 59ms/step - loss: 4.2367 - mae: 1.5503 - val_loss: 13.4424 - val_mae: 2.8812\n",
            "Epoch 50/50\n",
            "819/819 [==============================] - 47s 57ms/step - loss: 4.2598 - mae: 1.5501 - val_loss: 13.9578 - val_mae: 2.9307\n",
            "405/405 [==============================] - 16s 38ms/step - loss: 9.5284 - mae: 2.4201\n",
            "테스트 MAE: 2.42\n"
          ]
        }
      ],
      "source": [
        "inputs = keras.Input(shape=(sequence_length, raw_data.shape[-1]))\n",
        "# 훈련 속도를 놓이기 위해 순환 드롭아웃을 제외합니다.\n",
        "# x = layers.GRU(32, recurrent_dropout=0.5, return_sequences=True)(inputs)\n",
        "# x = layers.GRU(32, recurrent_dropout=0.5)(x)\n",
        "x = layers.GRU(32, return_sequences=True)(inputs)\n",
        "x = layers.GRU(32)(x)\n",
        "x = layers.Dropout(0.5)(x)\n",
        "outputs = layers.Dense(1)(x)\n",
        "model = keras.Model(inputs, outputs)\n",
        "\n",
        "callbacks = [\n",
        "    keras.callbacks.ModelCheckpoint(\"jena_stacked_gru_dropout.h5\",\n",
        "                                    save_best_only=True)\n",
        "]\n",
        "model.compile(optimizer=\"rmsprop\", loss=\"mse\", metrics=[\"mae\"])\n",
        "history = model.fit(train_dataset,\n",
        "                    epochs=50,\n",
        "                    validation_data=val_dataset,\n",
        "                    callbacks=callbacks)\n",
        "model = keras.models.load_model(\"jena_stacked_gru_dropout.h5\")\n",
        "print(f\"테스트 MAE: {model.evaluate(test_dataset)[1]:.2f}\")"
      ]
    },
    {
      "cell_type": "code",
      "execution_count": null,
      "metadata": {
        "execution": {
          "iopub.execute_input": "2022-05-20T17:21:17.502935Z",
          "iopub.status.busy": "2022-05-20T17:21:17.502627Z",
          "iopub.status.idle": "2022-05-20T17:21:17.637424Z",
          "shell.execute_reply": "2022-05-20T17:21:17.636229Z"
        },
        "id": "ajG9EuXxjbck",
        "outputId": "2dccd493-f54c-4779-a2ee-c64e33c347ab",
        "colab": {
          "base_uri": "https://localhost:8080/",
          "height": 452
        }
      },
      "outputs": [
        {
          "output_type": "display_data",
          "data": {
            "text/plain": [
              "<Figure size 640x480 with 1 Axes>"
            ],
            "image/png": "[encoded data removed]"
          },
          "metadata": {}
        }
      ],
      "source": [
        "loss = history.history[\"mae\"]\n",
        "val_loss = history.history[\"val_mae\"]\n",
        "epochs = range(1, len(loss) + 1)\n",
        "plt.figure()\n",
        "plt.plot(epochs, loss, \"bo\", label=\"Training MAE\")\n",
        "plt.plot(epochs, val_loss, \"b\", label=\"Validation MAE\")\n",
        "plt.title(\"Training and validation MAE\")\n",
        "plt.legend()\n",
        "plt.show()"
      ]
    },
    {
      "cell_type": "markdown",
      "metadata": {
        "id": "Yj_01R2Cjbck"
      },
      "source": [
        "### 양방향 RNN 사용하기"
      ]
    },
    {
      "cell_type": "markdown",
      "metadata": {
        "id": "HfYzAJbqjbck"
      },
      "source": [
        "시퀀스를 거꾸로 뒤집어 LSTM 모델 훈련하기 (책에는 없음)"
      ]
    },
    {
      "cell_type": "code",
      "execution_count": null,
      "metadata": {
        "execution": {
          "iopub.execute_input": "2022-05-20T17:21:17.641176Z",
          "iopub.status.busy": "2022-05-20T17:21:17.640902Z",
          "iopub.status.idle": "2022-05-20T17:21:17.646145Z",
          "shell.execute_reply": "2022-05-20T17:21:17.645090Z"
        },
        "id": "P2Ns9cJajbck"
      },
      "outputs": [],
      "source": [
        "def train_generator():\n",
        "    while True:\n",
        "        for samples, targets in train_dataset:\n",
        "            yield samples[:, ::-1, :], targets\n",
        "\n",
        "def val_generator():\n",
        "    while True:\n",
        "        for samples, targets in val_dataset:\n",
        "            yield samples[:, ::-1, :], targets\n",
        "\n",
        "train_gen = train_generator()\n",
        "val_gen = val_generator()"
      ]
    },
    {
      "cell_type": "code",
      "execution_count": null,
      "metadata": {
        "execution": {
          "iopub.execute_input": "2022-05-20T17:21:17.649630Z",
          "iopub.status.busy": "2022-05-20T17:21:17.649357Z",
          "iopub.status.idle": "2022-05-20T17:38:03.455221Z",
          "shell.execute_reply": "2022-05-20T17:38:03.454271Z"
        },
        "id": "4Yd7xpW3jbck",
        "outputId": "cba42d83-1c0c-4bd7-dea5-581c2965c011",
        "colab": {
          "base_uri": "https://localhost:8080/"
        }
      },
      "outputs": [
        {
          "output_type": "stream",
          "name": "stdout",
          "text": [
            "Epoch 1/10\n",
            "819/819 [==============================] - 58s 68ms/step - loss: 34.4427 - mae: 4.4943 - val_loss: 17.2340 - val_mae: 3.2700\n",
            "Epoch 2/10\n",
            "819/819 [==============================] - 53s 65ms/step - loss: 21.8827 - mae: 3.6623 - val_loss: 16.7471 - val_mae: 3.2083\n",
            "Epoch 3/10\n",
            "819/819 [==============================] - 55s 67ms/step - loss: 20.3650 - mae: 3.5217 - val_loss: 16.0861 - val_mae: 3.1253\n",
            "Epoch 4/10\n",
            "819/819 [==============================] - 82s 92ms/step - loss: 17.7713 - mae: 3.2862 - val_loss: 13.3988 - val_mae: 2.8408\n",
            "Epoch 5/10\n",
            "819/819 [==============================] - 49s 60ms/step - loss: 15.6091 - mae: 3.0858 - val_loss: 12.8040 - val_mae: 2.7785\n",
            "Epoch 6/10\n",
            "819/819 [==============================] - 115s 140ms/step - loss: 14.6476 - mae: 2.9809 - val_loss: 12.5205 - val_mae: 2.7213\n",
            "Epoch 7/10\n",
            "819/819 [==============================] - 48s 58ms/step - loss: 13.9296 - mae: 2.9091 - val_loss: 12.2423 - val_mae: 2.6778\n",
            "Epoch 8/10\n",
            "819/819 [==============================] - 46s 56ms/step - loss: 13.3959 - mae: 2.8444 - val_loss: 12.2930 - val_mae: 2.7002\n",
            "Epoch 9/10\n",
            "819/819 [==============================] - 72s 62ms/step - loss: 13.0317 - mae: 2.8016 - val_loss: 12.1610 - val_mae: 2.6823\n",
            "Epoch 10/10\n",
            "819/819 [==============================] - 51s 63ms/step - loss: 12.6035 - mae: 2.7555 - val_loss: 12.3106 - val_mae: 2.7035\n"
          ]
        }
      ],
      "source": [
        "inputs = keras.Input(shape=(sequence_length, raw_data.shape[-1]))\n",
        "# 훈련 속도를 놓이기 위해 순환 드롭아웃을 제외합니다.\n",
        "# x = layers.LSTM(32, recurrent_dropout=0.25)(inputs)\n",
        "x = layers.LSTM(32)(inputs)\n",
        "x = layers.Dropout(0.5)(x)\n",
        "outputs = layers.Dense(1)(x)\n",
        "model = keras.Model(inputs, outputs)\n",
        "\n",
        "model.compile(optimizer=\"rmsprop\", loss=\"mse\", metrics=[\"mae\"])\n",
        "history = model.fit(train_gen,\n",
        "                    epochs=10,\n",
        "                    steps_per_epoch=819,\n",
        "                    validation_data=val_gen,\n",
        "                    validation_steps=410)"
      ]
    },
    {
      "cell_type": "code",
      "execution_count": null,
      "metadata": {
        "execution": {
          "iopub.execute_input": "2022-05-20T17:38:03.459157Z",
          "iopub.status.busy": "2022-05-20T17:38:03.458872Z",
          "iopub.status.idle": "2022-05-20T17:38:03.588800Z",
          "shell.execute_reply": "2022-05-20T17:38:03.587843Z"
        },
        "id": "HjBY66fkjbck",
        "outputId": "1d4b18a3-c5c3-46c6-aabe-d79991418675",
        "colab": {
          "base_uri": "https://localhost:8080/",
          "height": 452
        }
      },
      "outputs": [
        {
          "output_type": "display_data",
          "data": {
            "text/plain": [
              "<Figure size 640x480 with 1 Axes>"
            ],
            "image/png": "[encoded data removed]"
          },
          "metadata": {}
        }
      ],
      "source": [
        "loss = history.history[\"mae\"]\n",
        "val_loss = history.history[\"val_mae\"]\n",
        "epochs = range(1, len(loss) + 1)\n",
        "plt.figure()\n",
        "plt.plot(epochs, loss, \"bo\", label=\"Training MAE\")\n",
        "plt.plot(epochs, val_loss, \"b\", label=\"Validation MAE\")\n",
        "plt.title(\"Training and validation MAE\")\n",
        "plt.legend()\n",
        "plt.show()"
      ]
    },
    {
      "cell_type": "markdown",
      "metadata": {
        "id": "9mc9iUIKjbck"
      },
      "source": [
        "**양방향 LSTM 모델 훈련하고 평가하기**"
      ]
    },
    {
      "cell_type": "code",
      "execution_count": null,
      "metadata": {
        "execution": {
          "iopub.execute_input": "2022-05-20T17:38:03.594401Z",
          "iopub.status.busy": "2022-05-20T17:38:03.593387Z",
          "iopub.status.idle": "2022-05-20T17:49:14.410464Z",
          "shell.execute_reply": "2022-05-20T17:49:14.409759Z"
        },
        "id": "eysu8EhMjbcl",
        "outputId": "79e7ce1c-f525-44ea-bd14-f595ba429570",
        "colab": {
          "base_uri": "https://localhost:8080/"
        }
      },
      "outputs": [
        {
          "output_type": "stream",
          "name": "stdout",
          "text": [
            "Epoch 1/10\n",
            "819/819 [==============================] - 55s 62ms/step - loss: 26.2686 - mae: 3.6970 - val_loss: 11.1051 - val_mae: 2.5860\n",
            "Epoch 2/10\n",
            "819/819 [==============================] - 48s 58ms/step - loss: 9.6917 - mae: 2.4327 - val_loss: 9.7543 - val_mae: 2.4046\n",
            "Epoch 3/10\n",
            "819/819 [==============================] - 47s 57ms/step - loss: 8.9986 - mae: 2.3375 - val_loss: 9.4536 - val_mae: 2.3768\n",
            "Epoch 4/10\n",
            "819/819 [==============================] - 47s 57ms/step - loss: 8.4802 - mae: 2.2696 - val_loss: 9.7171 - val_mae: 2.4206\n",
            "Epoch 5/10\n",
            "819/819 [==============================] - 48s 58ms/step - loss: 8.0960 - mae: 2.2161 - val_loss: 9.4793 - val_mae: 2.3819\n",
            "Epoch 6/10\n",
            "819/819 [==============================] - 49s 59ms/step - loss: 7.7758 - mae: 2.1717 - val_loss: 9.8579 - val_mae: 2.4301\n",
            "Epoch 7/10\n",
            "819/819 [==============================] - 47s 58ms/step - loss: 7.5232 - mae: 2.1358 - val_loss: 9.7900 - val_mae: 2.4127\n",
            "Epoch 8/10\n",
            "819/819 [==============================] - 48s 59ms/step - loss: 7.3138 - mae: 2.1070 - val_loss: 9.8580 - val_mae: 2.4292\n",
            "Epoch 9/10\n",
            "819/819 [==============================] - 47s 57ms/step - loss: 7.1005 - mae: 2.0763 - val_loss: 10.1506 - val_mae: 2.4593\n",
            "Epoch 10/10\n",
            "819/819 [==============================] - 55s 67ms/step - loss: 6.9811 - mae: 2.0572 - val_loss: 10.7489 - val_mae: 2.5391\n"
          ]
        }
      ],
      "source": [
        "inputs = keras.Input(shape=(sequence_length, raw_data.shape[-1]))\n",
        "x = layers.Bidirectional(layers.LSTM(16))(inputs)\n",
        "outputs = layers.Dense(1)(x)\n",
        "model = keras.Model(inputs, outputs)\n",
        "\n",
        "model.compile(optimizer=\"rmsprop\", loss=\"mse\", metrics=[\"mae\"])\n",
        "history = model.fit(train_dataset,\n",
        "                    epochs=10,\n",
        "                    validation_data=val_dataset)"
      ]
    },
    {
      "cell_type": "markdown",
      "metadata": {
        "id": "wrkE0wkWjbcl"
      },
      "source": [
        "### 더 나아가서"
      ]
    },
    {
      "cell_type": "markdown",
      "metadata": {
        "id": "fi2t0VRNjbcl"
      },
      "source": [
        "## 요약"
      ]
    }
  ],
  "metadata": {
    "colab": {
      "provenance": [],
      "gpuClass": "premium",
      "gpuType": "T4",
      "include_colab_link": true
    },
    "kernelspec": {
      "display_name": "Python 3",
      "name": "python3"
    },
    "language_info": {
      "name": "python"
    },
    "accelerator": "GPU"
  },
  "nbformat": 4,
  "nbformat_minor": 0
}